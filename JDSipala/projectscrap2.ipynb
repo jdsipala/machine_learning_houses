{
 "cells": [
  {
   "cell_type": "code",
   "execution_count": 1,
   "metadata": {},
   "outputs": [],
   "source": [
    "# Imports\n",
    "import pandas as pd\n",
    "import numpy as np\n",
    "from sklearn.model_selection import cross_val_score, train_test_split\n",
    "from sklearn.preprocessing import StandardScaler\n",
    "from sklearn.linear_model import LinearRegression, RidgeCV, LassoCV, ElasticNetCV\n",
    "from sklearn.metrics import mean_squared_error, make_scorer\n",
    "from scipy.stats import skew\n",
    "from IPython.display import display, HTML\n",
    "import matplotlib.pyplot as plt\n",
    "import seaborn as sns\n",
    "from scipy import stats\n",
    "from sklearn.linear_model import Ridge, Lasso, ElasticNet, LinearRegression\n",
    "ridge = Ridge()\n",
    "lasso = Lasso()\n",
    "net   = ElasticNet()\n",
    "from scipy.stats.stats import pearsonr\n",
    "%matplotlib inline\n",
    "from subprocess import check_output\n",
    "import matplotlib"
   ]
  },
  {
   "cell_type": "code",
   "execution_count": 2,
   "metadata": {},
   "outputs": [],
   "source": [
    "# Get data\n",
    "train = pd.read_csv(\"train.csv\")\n",
    "test = pd.read_csv('test.csv')"
   ]
  },
  {
   "cell_type": "code",
   "execution_count": 3,
   "metadata": {},
   "outputs": [
    {
     "data": {
      "text/plain": [
       "(1459, 80)"
      ]
     },
     "execution_count": 3,
     "metadata": {},
     "output_type": "execute_result"
    }
   ],
   "source": [
    "# drop alley column\n",
    "# drop fence column\n",
    "# drop garage yr blt??? ask elliot abt zeros\n",
    "test.shape\n"
   ]
  },
  {
   "cell_type": "code",
   "execution_count": 4,
   "metadata": {},
   "outputs": [],
   "source": [
    "# Drop Id column\n",
    "train.drop([\"Id\",\"Street\",\"PoolQC\",\"Utilities\",\"MiscFeature\", \"Alley\"], axis = 1, inplace = True)\n",
    "test.drop([\"Id\",\"Street\",\"PoolQC\",\"Utilities\",\"MiscFeature\", \"Alley\"],axis = 1, inplace = True)\n"
   ]
  },
  {
   "cell_type": "code",
   "execution_count": 5,
   "metadata": {},
   "outputs": [],
   "source": [
    "train= train[train.YearBuilt> 1895]"
   ]
  },
  {
   "cell_type": "code",
   "execution_count": 6,
   "metadata": {},
   "outputs": [
    {
     "data": {
      "text/plain": [
       "<matplotlib.collections.PathCollection at 0x1efca25e748>"
      ]
     },
     "execution_count": 6,
     "metadata": {},
     "output_type": "execute_result"
    },
    {
     "data": {
      "image/png": "[encoded data removed]",
      "text/plain": [
       "<Figure size 432x288 with 1 Axes>"
      ]
     },
     "metadata": {
      "needs_background": "light"
     },
     "output_type": "display_data"
    }
   ],
   "source": [
    "plt.scatter(train.YearBuilt, train.SalePrice, c = 'blue', marker = \"s\")"
   ]
  },
  {
   "cell_type": "code",
   "execution_count": 7,
   "metadata": {},
   "outputs": [
    {
     "data": {
      "image/png": "[encoded data removed]",
      "text/plain": [
       "<Figure size 432x288 with 1 Axes>"
      ]
     },
     "metadata": {
      "needs_background": "light"
     },
     "output_type": "display_data"
    }
   ],
   "source": [
    "plt.scatter(train.GrLivArea, train.SalePrice, c = \"blue\", marker = \"s\")\n",
    "plt.title(\"Looking for outliers\")\n",
    "plt.xlabel(\"GrLivArea\")\n",
    "plt.ylabel(\"SalePrice\")\n",
    "plt.show()\n",
    "\n",
    "train = train[train.GrLivArea < 4000]"
   ]
  },
  {
   "cell_type": "code",
   "execution_count": 8,
   "metadata": {},
   "outputs": [],
   "source": [
    "train1 = train.copy()\n",
    "train1 = train1[train1.GrLivArea < 4000]"
   ]
  },
  {
   "cell_type": "code",
   "execution_count": 9,
   "metadata": {},
   "outputs": [],
   "source": [
    "### Attempt at feature engineering\n",
    "# train1['MoSold'].value_counts()\n",
    "# categorize months into different seasons based on number of houses sold... \n",
    "# arr = []\n",
    "# for i in range(0,1456):\n",
    "#     if train['MoSold'].iloc[i] in [5, 6, 7]: \n",
    "#         arr.append('HotSzn')\n",
    "#     elif train['MoSold'].iloc[i] in [3, 4, 8]:\n",
    "#         arr.append('MediumSzn')\n",
    "#     elif train['MoSold'].iloc[i] in [9, 10, 11]: \n",
    "#         arr.append('MildSzn')\n",
    "#     else:\n",
    "#         arr.append('ColdSzn')\n",
    "# train['season'] = arr"
   ]
  },
  {
   "cell_type": "code",
   "execution_count": 10,
   "metadata": {},
   "outputs": [],
   "source": [
    "train['Remodeled'] = (train['YearBuilt']==train['YearRemodAdd']).astype(int)\n",
    "train['NewHouse'] = (train['YearBuilt']==train['YrSold']).astype(int)"
   ]
  },
  {
   "cell_type": "code",
   "execution_count": 11,
   "metadata": {},
   "outputs": [],
   "source": [
    "# train.loc[train.Alley.isnull(), 'Alley'] = 'None'"
   ]
  },
  {
   "cell_type": "code",
   "execution_count": 12,
   "metadata": {},
   "outputs": [],
   "source": [
    "train['MasVnrType'].fillna(value = 'None', inplace = True)\n",
    "train['MasVnrArea'].replace(np.nan, 0, inplace = True)"
   ]
  },
  {
   "cell_type": "code",
   "execution_count": 13,
   "metadata": {},
   "outputs": [],
   "source": [
    "train['Fence'].fillna('None', inplace = True)"
   ]
  },
  {
   "cell_type": "code",
   "execution_count": 14,
   "metadata": {},
   "outputs": [],
   "source": [
    "train['FireplaceQu'].fillna('None', inplace = True)"
   ]
  },
  {
   "cell_type": "code",
   "execution_count": 15,
   "metadata": {},
   "outputs": [],
   "source": [
    "###### Garage columns\n",
    "### Seems like there are 81 houses with no garage...\n",
    "\n",
    "train['GarageType'].fillna('None', inplace = True)\n",
    "train['GarageCond'].fillna('None', inplace = True)\n",
    "train['GarageFinish'].fillna('None', inplace = True)\n",
    "train['GarageQual'].fillna('None', inplace = True)\n",
    "\n",
    "# Use ZERO for this column\n",
    "train['GarageYrBlt'].fillna(train['GarageYrBlt'].median(), inplace = True)"
   ]
  },
  {
   "cell_type": "code",
   "execution_count": 16,
   "metadata": {},
   "outputs": [],
   "source": [
    "### basement crap\n",
    "train['BsmtCond'].fillna('None', inplace = True)\n",
    "train['BsmtQual'].fillna('None', inplace = True)\n",
    "train['BsmtExposure'].fillna('None', inplace = True)\n",
    "train['BsmtFinType2'].fillna('None', inplace = True)\n",
    "train['BsmtFinType1'].fillna('None', inplace = True)"
   ]
  },
  {
   "cell_type": "code",
   "execution_count": 17,
   "metadata": {},
   "outputs": [],
   "source": [
    "## use mode for the 1 missing electrical value \n",
    "train['Electrical'].fillna((train['Electrical'].value_counts().index[0]), inplace = True)"
   ]
  },
  {
   "cell_type": "code",
   "execution_count": 18,
   "metadata": {},
   "outputs": [],
   "source": [
    "# use median for lot frontage\n",
    "train['LotFrontage'].fillna((train['LotFrontage'].median()), inplace=True)"
   ]
  },
  {
   "cell_type": "code",
   "execution_count": 19,
   "metadata": {},
   "outputs": [
    {
     "data": {
      "text/plain": [
       "NewHouse        0\n",
       "BsmtCond        0\n",
       "Exterior2nd     0\n",
       "MasVnrType      0\n",
       "MasVnrArea      0\n",
       "ExterQual       0\n",
       "ExterCond       0\n",
       "Foundation      0\n",
       "BsmtQual        0\n",
       "BsmtExposure    0\n",
       "CentralAir      0\n",
       "BsmtFinType1    0\n",
       "BsmtFinSF1      0\n",
       "BsmtFinType2    0\n",
       "BsmtFinSF2      0\n",
       "BsmtUnfSF       0\n",
       "TotalBsmtSF     0\n",
       "Heating         0\n",
       "Exterior1st     0\n",
       "RoofMatl        0\n",
       "RoofStyle       0\n",
       "YearRemodAdd    0\n",
       "MSZoning        0\n",
       "LotFrontage     0\n",
       "LotArea         0\n",
       "LotShape        0\n",
       "LandContour     0\n",
       "LotConfig       0\n",
       "LandSlope       0\n",
       "Neighborhood    0\n",
       "Condition1      0\n",
       "Condition2      0\n",
       "BldgType        0\n",
       "HouseStyle      0\n",
       "dtype: int64"
      ]
     },
     "execution_count": 19,
     "metadata": {},
     "output_type": "execute_result"
    }
   ],
   "source": [
    "train.isnull().sum().sort_values(ascending=False)[:34]"
   ]
  },
  {
   "cell_type": "code",
   "execution_count": 20,
   "metadata": {},
   "outputs": [
    {
     "data": {
      "image/png": "[encoded data removed]",
      "text/plain": [
       "<Figure size 1080x864 with 2 Axes>"
      ]
     },
     "metadata": {
      "needs_background": "light"
     },
     "output_type": "display_data"
    }
   ],
   "source": [
    "corrmat = train.corr()\n",
    "f, ax = plt.subplots(figsize=(15, 12))\n",
    "DWade = sns.heatmap(corrmat, linecolor = 'white', cmap = 'Reds', linewidths = 3)"
   ]
  },
  {
   "cell_type": "code",
   "execution_count": 21,
   "metadata": {},
   "outputs": [],
   "source": [
    "# Encode some categorical features as ordered numbers when there is information in the order\n",
    "# train = train.replace({\n",
    "#                         \"FireplaceQu\" : {\"No\" : 0, \"Po\" : 1, \"Fa\" : 2, \"TA\" : 3, \"Gd\" : 4, \"Ex\" : 5},\n",
    "#                         \"PavedDrive\" : {\"N\" : 0, \"P\" : 1, \"Y\" : 2}\n",
    "\n",
    "#                        })\n",
    "                     \n",
    "\n",
    "# #Changing some of the columns to ordinal values\n",
    "\n",
    "## Basement cols\n",
    "# Basement Condition\n",
    "mapping4 = {\"None\" : 0, \"Po\" : 1, \"Fa\" : 2, \"TA\" : 3, \"Gd\" : 4, \"Ex\" : 5}\n",
    "train.replace({'BsmtCond': mapping4}, inplace = True)\n",
    "# Basement Exposure\n",
    "mapping5 = {\"No\" : 0,'None':0, \"Mn\" : 1, \"Av\": 2, \"Gd\" : 3}\n",
    "train.replace({'BsmtExposure': mapping5}, inplace = True)\n",
    "# Basement Qual\n",
    "mapping6 = {\"None\" : 0, \"Po\" : 1, \"Fa\" : 2, \"TA\": 3, \"Gd\" : 4, \"Ex\" : 5}\n",
    "train.replace({'BsmtQual':mapping6}, inplace = True)\n",
    "# Basement Fin type 1\n",
    "mapping7 = {\"None\": 0, \"Unf\" : 1, \"LwQ\": 2, \"Rec\" : 3, \"BLQ\" : 4, \"ALQ\" : 5, \"GLQ\" : 6}\n",
    "train.replace({'BsmtFinType1':mapping7}, inplace = True)\n",
    "# Basement Fin type 2\n",
    "mapping8 = {\"None\": 0, \"Unf\" : 1, \"LwQ\": 2, \"Rec\" : 3, \"BLQ\" : 4, \"ALQ\" : 5, \"GLQ\" : 6}\n",
    "train.replace({'BsmtFinType2':mapping8}, inplace = True)\n",
    "\n",
    "# Heating QC (quality)\n",
    "mapping9 = {\"Po\" : 1, \"Fa\" : 2, \"TA\" : 3, \"Gd\" : 4, \"Ex\" : 5}\n",
    "train.replace({'HeatingQC':mapping9},inplace = True)\n",
    "\n",
    "## Garage cols\n",
    "# garage cond\n",
    "mapping10 = {\"None\" : 0, \"Po\" : 1, \"Fa\" : 2, \"TA\" : 3, \"Gd\" : 4, \"Ex\" : 5}\n",
    "train.replace({'GarageCond': mapping10}, inplace = True)\n",
    "# garage qual\n",
    "mapping11 = {\"None\" : 0, \"Po\" : 1, \"Fa\" : 2, \"TA\" : 3, \"Gd\" : 4, \"Ex\" : 5}\n",
    "train.replace({'GarageQual': mapping11}, inplace = True)\n",
    "\n",
    "### home functionality\n",
    "mapping12 = {\"Sal\" : 1, \"Sev\" : 2, \"Maj2\" : 3, \"Maj1\" : 4, \"Mod\": 5, \n",
    "                                       \"Min2\" : 6, \"Min1\" : 7, \"Typ\" : 8}\n",
    "train.replace({'Functional': mapping12}, inplace = True)\n",
    "\n",
    "## exterior\n",
    "# exterior condition\n",
    "mapping13 = {\"Po\" : 1, \"Fa\" : 2, \"TA\": 3, \"Gd\": 4, \"Ex\" : 5}\n",
    "train.replace({'ExterCond': mapping13}, inplace = True)\n",
    "# exterior quality\n",
    "mapping14 = {\"Po\" : 1, \"Fa\" : 2, \"TA\": 3, \"Gd\": 4, \"Ex\" : 5}\n",
    "train.replace({'ExterQual':mapping14}, inplace = True)\n",
    "\n",
    "# kitchen quality\n",
    "mapping15 = {\"Po\" : 1, \"Fa\" : 2, \"TA\" : 3, \"Gd\" : 4, \"Ex\" : 5}\n",
    "train.replace({\"KitchenQual\": mapping15}, inplace = True)\n",
    "\n",
    "# fireplace quality\n",
    "mapping16 = {\"None\" : 0, \"Po\" : 1, \"Fa\" : 2, \"TA\" : 3, \"Gd\" : 4, \"Ex\" : 5}\n",
    "train.replace({'FireplaceQu': mapping16}, inplace = True)"
   ]
  },
  {
   "cell_type": "code",
   "execution_count": 22,
   "metadata": {},
   "outputs": [
    {
     "data": {
      "text/plain": [
       "0    681\n",
       "4    375\n",
       "3    311\n",
       "2     33\n",
       "5     22\n",
       "1     20\n",
       "Name: FireplaceQu, dtype: int64"
      ]
     },
     "execution_count": 22,
     "metadata": {},
     "output_type": "execute_result"
    }
   ],
   "source": [
    "train['FireplaceQu'].value_counts()"
   ]
  },
  {
   "cell_type": "code",
   "execution_count": 23,
   "metadata": {},
   "outputs": [],
   "source": [
    "# Feature Engineering\n",
    "# add ordinal basement columns\n",
    "train['CombinedBsmt'] = train['BsmtQual'] + train['BsmtCond'] + train['BsmtExposure'] + train['BsmtFinType1']+train['BsmtFinType2']\n"
   ]
  },
  {
   "cell_type": "code",
   "execution_count": 24,
   "metadata": {},
   "outputs": [
    {
     "data": {
      "text/plain": [
       "384     4\n",
       "1291    3\n",
       "377     4\n",
       "555     3\n",
       "875     4\n",
       "Name: ExterQual, dtype: int64"
      ]
     },
     "execution_count": 24,
     "metadata": {},
     "output_type": "execute_result"
    }
   ],
   "source": [
    "train['ExterQual'].sample(5)"
   ]
  },
  {
   "cell_type": "code",
   "execution_count": 25,
   "metadata": {},
   "outputs": [
    {
     "data": {
      "text/plain": [
       "PConc     642\n",
       "CBlock    633\n",
       "BrkTil    136\n",
       "Slab       24\n",
       "Stone       4\n",
       "Wood        3\n",
       "Name: Foundation, dtype: int64"
      ]
     },
     "execution_count": 25,
     "metadata": {},
     "output_type": "execute_result"
    }
   ],
   "source": [
    "train[\"Foundation\"].value_counts()"
   ]
  },
  {
   "cell_type": "code",
   "execution_count": 26,
   "metadata": {},
   "outputs": [
    {
     "data": {
      "text/html": [
       "<div>\n",
       "<style scoped>\n",
       "    .dataframe tbody tr th:only-of-type {\n",
       "        vertical-align: middle;\n",
       "    }\n",
       "\n",
       "    .dataframe tbody tr th {\n",
       "        vertical-align: top;\n",
       "    }\n",
       "\n",
       "    .dataframe thead th {\n",
       "        text-align: right;\n",
       "    }\n",
       "</style>\n",
       "<table border=\"1\" class=\"dataframe\">\n",
       "  <thead>\n",
       "    <tr style=\"text-align: right;\">\n",
       "      <th></th>\n",
       "      <th>Foundation</th>\n",
       "      <th>YearBuilt</th>\n",
       "    </tr>\n",
       "  </thead>\n",
       "  <tbody>\n",
       "    <tr>\n",
       "      <th>0</th>\n",
       "      <td>BrkTil</td>\n",
       "      <td>1923.0</td>\n",
       "    </tr>\n",
       "    <tr>\n",
       "      <th>1</th>\n",
       "      <td>CBlock</td>\n",
       "      <td>1964.0</td>\n",
       "    </tr>\n",
       "    <tr>\n",
       "      <th>2</th>\n",
       "      <td>PConc</td>\n",
       "      <td>2002.0</td>\n",
       "    </tr>\n",
       "    <tr>\n",
       "      <th>3</th>\n",
       "      <td>Slab</td>\n",
       "      <td>1955.0</td>\n",
       "    </tr>\n",
       "    <tr>\n",
       "      <th>4</th>\n",
       "      <td>Stone</td>\n",
       "      <td>1925.5</td>\n",
       "    </tr>\n",
       "    <tr>\n",
       "      <th>5</th>\n",
       "      <td>Wood</td>\n",
       "      <td>1990.0</td>\n",
       "    </tr>\n",
       "  </tbody>\n",
       "</table>\n",
       "</div>"
      ],
      "text/plain": [
       "  Foundation  YearBuilt\n",
       "0     BrkTil     1923.0\n",
       "1     CBlock     1964.0\n",
       "2      PConc     2002.0\n",
       "3       Slab     1955.0\n",
       "4      Stone     1925.5\n",
       "5       Wood     1990.0"
      ]
     },
     "execution_count": 26,
     "metadata": {},
     "output_type": "execute_result"
    }
   ],
   "source": [
    "train.groupby('Foundation', as_index=False)['YearBuilt'].median()"
   ]
  },
  {
   "cell_type": "code",
   "execution_count": 27,
   "metadata": {},
   "outputs": [
    {
     "data": {
      "text/html": [
       "<div>\n",
       "<style scoped>\n",
       "    .dataframe tbody tr th:only-of-type {\n",
       "        vertical-align: middle;\n",
       "    }\n",
       "\n",
       "    .dataframe tbody tr th {\n",
       "        vertical-align: top;\n",
       "    }\n",
       "\n",
       "    .dataframe thead th {\n",
       "        text-align: right;\n",
       "    }\n",
       "</style>\n",
       "<table border=\"1\" class=\"dataframe\">\n",
       "  <thead>\n",
       "    <tr style=\"text-align: right;\">\n",
       "      <th></th>\n",
       "      <th>Foundation</th>\n",
       "      <th>SalePrice</th>\n",
       "    </tr>\n",
       "  </thead>\n",
       "  <tbody>\n",
       "    <tr>\n",
       "      <th>0</th>\n",
       "      <td>BrkTil</td>\n",
       "      <td>127232.330882</td>\n",
       "    </tr>\n",
       "    <tr>\n",
       "      <th>1</th>\n",
       "      <td>CBlock</td>\n",
       "      <td>149893.875197</td>\n",
       "    </tr>\n",
       "    <tr>\n",
       "      <th>2</th>\n",
       "      <td>PConc</td>\n",
       "      <td>223920.320872</td>\n",
       "    </tr>\n",
       "    <tr>\n",
       "      <th>3</th>\n",
       "      <td>Slab</td>\n",
       "      <td>107365.625000</td>\n",
       "    </tr>\n",
       "    <tr>\n",
       "      <th>4</th>\n",
       "      <td>Stone</td>\n",
       "      <td>155569.000000</td>\n",
       "    </tr>\n",
       "    <tr>\n",
       "      <th>5</th>\n",
       "      <td>Wood</td>\n",
       "      <td>185666.666667</td>\n",
       "    </tr>\n",
       "  </tbody>\n",
       "</table>\n",
       "</div>"
      ],
      "text/plain": [
       "  Foundation      SalePrice\n",
       "0     BrkTil  127232.330882\n",
       "1     CBlock  149893.875197\n",
       "2      PConc  223920.320872\n",
       "3       Slab  107365.625000\n",
       "4      Stone  155569.000000\n",
       "5       Wood  185666.666667"
      ]
     },
     "execution_count": 27,
     "metadata": {},
     "output_type": "execute_result"
    }
   ],
   "source": [
    "train.groupby('Foundation', as_index=False)['SalePrice'].mean()"
   ]
  },
  {
   "cell_type": "code",
   "execution_count": 28,
   "metadata": {},
   "outputs": [],
   "source": [
    "train['TotalBaths'] = train['FullBath']+train['BsmtFullBath']+(.5*train['HalfBath'])+(.5*train['BsmtHalfBath'])\n",
    "train['TotalBaths2'] = (train['TotalBaths']**2)"
   ]
  },
  {
   "cell_type": "code",
   "execution_count": 29,
   "metadata": {},
   "outputs": [
    {
     "data": {
      "text/plain": [
       "2    745\n",
       "1    364\n",
       "3    316\n",
       "4     15\n",
       "6      1\n",
       "0      1\n",
       "Name: FullBathTotal, dtype: int64"
      ]
     },
     "execution_count": 29,
     "metadata": {},
     "output_type": "execute_result"
    }
   ],
   "source": [
    "train['FullBathTotal'] = train['FullBath'] + train['BsmtFullBath']\n",
    "train['FullBathTotal'].value_counts()"
   ]
  },
  {
   "cell_type": "code",
   "execution_count": 30,
   "metadata": {
    "scrolled": true
   },
   "outputs": [],
   "source": [
    "train['HouseAge'] = train['YrSold']-train['YearBuilt']"
   ]
  },
  {
   "cell_type": "code",
   "execution_count": null,
   "metadata": {},
   "outputs": [],
   "source": []
  },
  {
   "cell_type": "code",
   "execution_count": 31,
   "metadata": {},
   "outputs": [
    {
     "data": {
      "text/plain": [
       "array([ 7,  8,  9, 10, 11])"
      ]
     },
     "execution_count": 31,
     "metadata": {},
     "output_type": "execute_result"
    }
   ],
   "source": [
    "np.arange(7,12)"
   ]
  },
  {
   "cell_type": "code",
   "execution_count": 32,
   "metadata": {},
   "outputs": [
    {
     "data": {
      "text/plain": [
       "0       62\n",
       "1      100\n",
       "2       39\n",
       "3       36\n",
       "4       41\n",
       "5       30\n",
       "6       30\n",
       "7       24\n",
       "8       25\n",
       "9       23\n",
       "10      22\n",
       "11      21\n",
       "12      16\n",
       "13      14\n",
       "14      14\n",
       "15      20\n",
       "16      12\n",
       "17      11\n",
       "18       8\n",
       "19       7\n",
       "20       5\n",
       "21       6\n",
       "22       7\n",
       "23       3\n",
       "24       5\n",
       "25       7\n",
       "26       7\n",
       "27       5\n",
       "28       5\n",
       "29      14\n",
       "      ... \n",
       "80       5\n",
       "81      13\n",
       "82       5\n",
       "83      12\n",
       "84      13\n",
       "85       5\n",
       "86       9\n",
       "87      11\n",
       "88      12\n",
       "89      14\n",
       "90       6\n",
       "91       6\n",
       "92       4\n",
       "93       7\n",
       "94       6\n",
       "95       3\n",
       "96       6\n",
       "97       7\n",
       "98       3\n",
       "99       4\n",
       "100      3\n",
       "102      1\n",
       "103      1\n",
       "104      1\n",
       "106      3\n",
       "107      1\n",
       "108      3\n",
       "109      1\n",
       "110      2\n",
       "111      1\n",
       "Name: HouseAge, Length: 110, dtype: int64"
      ]
     },
     "execution_count": 32,
     "metadata": {},
     "output_type": "execute_result"
    }
   ],
   "source": [
    "train['HouseAge'].value_counts().sort_index(ascending=True)"
   ]
  },
  {
   "cell_type": "code",
   "execution_count": 33,
   "metadata": {},
   "outputs": [],
   "source": [
    "# above ground SF plus basement SF\n",
    "train[\"TotalSF\"] = train[\"GrLivArea\"] + train[\"TotalBsmtSF\"]"
   ]
  },
  {
   "cell_type": "code",
   "execution_count": 34,
   "metadata": {
    "scrolled": true
   },
   "outputs": [
    {
     "data": {
      "text/plain": [
       "1405     4\n",
       "530     20\n",
       "957     45\n",
       "134     38\n",
       "66      40\n",
       "Name: HouseAge, dtype: int64"
      ]
     },
     "execution_count": 34,
     "metadata": {},
     "output_type": "execute_result"
    }
   ],
   "source": [
    "train['HouseAge'].sample(5)"
   ]
  },
  {
   "cell_type": "code",
   "execution_count": 35,
   "metadata": {},
   "outputs": [],
   "source": [
    "# Overall quality and overall condition\n",
    "train[\"OverallMult\"] = train[\"OverallQual\"] * train[\"OverallCond\"]\n",
    "train['OverallAdd'] = train['OverallQual'] + train['OverallCond']"
   ]
  },
  {
   "cell_type": "code",
   "execution_count": 36,
   "metadata": {},
   "outputs": [],
   "source": [
    "# Exterior condition and quality\n",
    "train['ExterMult'] = train['ExterCond'] * train['ExterQual']\n",
    "train['ExterAdd'] = train['ExterCond'] + train['ExterQual']\n",
    "train['ExterAdd2'] = (train['ExterAdd']**2)"
   ]
  },
  {
   "cell_type": "code",
   "execution_count": 37,
   "metadata": {},
   "outputs": [],
   "source": [
    "# garage cond and qual\n",
    "train['GarageMult'] = train['GarageCond'] * train['GarageQual']\n",
    "train['GarageAdd'] = train['GarageCond'] + train['GarageQual']\n",
    "train['GarageAdd2'] = (train['GarageAdd']**2)"
   ]
  },
  {
   "cell_type": "code",
   "execution_count": 38,
   "metadata": {},
   "outputs": [],
   "source": [
    "#### assigning value to land slope\n",
    "mapping = {'Gtl': 0, 'Mod': 1, 'Sev': 2}\n",
    "train['LandSlopeVal'] = train.LandSlope.apply(lambda x: mapping[x])"
   ]
  },
  {
   "cell_type": "code",
   "execution_count": 39,
   "metadata": {},
   "outputs": [],
   "source": [
    "### assigning value to lot Shape\n",
    "mapping1 = {'Reg': 0, 'IR1': 1, 'IR3': 1, 'IR2':2}\n",
    "train['LotShapeVal'] = train.LotShape.apply(lambda x: mapping1[x])"
   ]
  },
  {
   "cell_type": "code",
   "execution_count": 40,
   "metadata": {},
   "outputs": [],
   "source": [
    "## assigning value to land contour\n",
    "mapping2 = {'Bnk':0, \"Low\":1, \"Lvl\":1,\"HLS\":2}\n",
    "train['LandContourVal'] = train.LandContour.apply(lambda x:mapping2[x])"
   ]
  },
  {
   "cell_type": "code",
   "execution_count": 41,
   "metadata": {},
   "outputs": [],
   "source": [
    "### assigning value to lot config\n",
    "mapping3 = {'Corner': 0, 'FR2':0, 'Inside':0,'FR3':0, 'CulDSac':1}\n",
    "train['LotConfigVal'] = train.LotConfig.apply(lambda x: mapping3[x])"
   ]
  },
  {
   "cell_type": "code",
   "execution_count": 42,
   "metadata": {},
   "outputs": [],
   "source": [
    "### layer value of overall cond and qual\n",
    "train[\"OverallQualLayer\"] = train.OverallQual.replace({1 : 1, 2 : 1, 3 : 1,\n",
    "                                                       4 : 2, 5 : 2, 6 : 2,\n",
    "                                                       7 : 3, 8 : 3, 9 : 3, 10 : 3})\n",
    "train['OverallCondLayer'] = train.OverallCond.replace({1 : 1, 2 : 1, 3 : 1,\n",
    "                                                       4 : 2, 5 : 2, 6 : 2,\n",
    "                                                       7 : 3, 8 : 3, 9 : 3, 10 : 3})"
   ]
  },
  {
   "cell_type": "code",
   "execution_count": 43,
   "metadata": {},
   "outputs": [],
   "source": [
    "#  adding new kitchen columns\n",
    "train[\"KitchenMult\"] = train[\"KitchenAbvGr\"] * train[\"KitchenQual\"]\n",
    "train[\"KitchenAdd\"] = train[\"KitchenAbvGr\"] + train[\"KitchenQual\"]\n",
    "train[\"KitchenAdd2\"] = (train[\"KitchenAdd\"] ** 2)"
   ]
  },
  {
   "cell_type": "code",
   "execution_count": 44,
   "metadata": {},
   "outputs": [],
   "source": [
    "medianbyyear = train.groupby('YrSold')['SalePrice'].agg('median').to_dict()\n",
    "train['MedianPriceByYear'] = train.YrSold.apply(lambda x : medianbyyear[x])"
   ]
  },
  {
   "cell_type": "code",
   "execution_count": 45,
   "metadata": {},
   "outputs": [],
   "source": [
    "salePrice = train1['SalePrice']"
   ]
  },
  {
   "cell_type": "code",
   "execution_count": 46,
   "metadata": {},
   "outputs": [
    {
     "data": {
      "text/html": [
       "<div>\n",
       "<style scoped>\n",
       "    .dataframe tbody tr th:only-of-type {\n",
       "        vertical-align: middle;\n",
       "    }\n",
       "\n",
       "    .dataframe tbody tr th {\n",
       "        vertical-align: top;\n",
       "    }\n",
       "\n",
       "    .dataframe thead th {\n",
       "        text-align: right;\n",
       "    }\n",
       "</style>\n",
       "<table border=\"1\" class=\"dataframe\">\n",
       "  <thead>\n",
       "    <tr style=\"text-align: right;\">\n",
       "      <th></th>\n",
       "      <th>YrSold</th>\n",
       "      <th>MedianPriceByYear</th>\n",
       "    </tr>\n",
       "  </thead>\n",
       "  <tbody>\n",
       "    <tr>\n",
       "      <th>1388</th>\n",
       "      <td>2009</td>\n",
       "      <td>162000</td>\n",
       "    </tr>\n",
       "    <tr>\n",
       "      <th>1225</th>\n",
       "      <td>2007</td>\n",
       "      <td>167000</td>\n",
       "    </tr>\n",
       "    <tr>\n",
       "      <th>703</th>\n",
       "      <td>2010</td>\n",
       "      <td>155000</td>\n",
       "    </tr>\n",
       "    <tr>\n",
       "      <th>1216</th>\n",
       "      <td>2010</td>\n",
       "      <td>155000</td>\n",
       "    </tr>\n",
       "    <tr>\n",
       "      <th>995</th>\n",
       "      <td>2006</td>\n",
       "      <td>163995</td>\n",
       "    </tr>\n",
       "  </tbody>\n",
       "</table>\n",
       "</div>"
      ],
      "text/plain": [
       "      YrSold  MedianPriceByYear\n",
       "1388    2009             162000\n",
       "1225    2007             167000\n",
       "703     2010             155000\n",
       "1216    2010             155000\n",
       "995     2006             163995"
      ]
     },
     "execution_count": 46,
     "metadata": {},
     "output_type": "execute_result"
    }
   ],
   "source": [
    "train.loc[:,['YrSold', 'MedianPriceByYear']].sample(5)"
   ]
  },
  {
   "cell_type": "code",
   "execution_count": 47,
   "metadata": {},
   "outputs": [
    {
     "data": {
      "text/plain": [
       "2009    334\n",
       "2007    323\n",
       "2006    312\n",
       "2008    300\n",
       "2010    173\n",
       "Name: YrSold, dtype: int64"
      ]
     },
     "execution_count": 47,
     "metadata": {},
     "output_type": "execute_result"
    }
   ],
   "source": [
    "train['YrSold'].value_counts()"
   ]
  },
  {
   "cell_type": "code",
   "execution_count": 48,
   "metadata": {},
   "outputs": [
    {
     "name": "stdout",
     "output_type": "stream",
     "text": [
      "Numerical features : 73\n",
      "Categorical features : 27\n"
     ]
    }
   ],
   "source": [
    "# numerical_features=train.select_dtypes(include=['int64','float64'])\n",
    "# categorical_features=train.select_dtypes(include=['object'])\n",
    "categorical_features = train.select_dtypes(include = [\"object\"]).columns\n",
    "numerical_features = train.select_dtypes(exclude = [\"object\"]).columns\n",
    "numerical_features = numerical_features.drop(\"SalePrice\")\n",
    "print(\"Numerical features : \" + str(len(numerical_features)))\n",
    "print(\"Categorical features : \" + str(len(categorical_features)))\n",
    "train_num = train[numerical_features]\n",
    "train_cat = train[categorical_features]"
   ]
  },
  {
   "cell_type": "code",
   "execution_count": 49,
   "metadata": {
    "scrolled": true
   },
   "outputs": [
    {
     "name": "stdout",
     "output_type": "stream",
     "text": [
      "53 skewed numerical features to log transform\n"
     ]
    },
    {
     "name": "stderr",
     "output_type": "stream",
     "text": [
      "C:\\Users\\jdsip\\anaconda3\\lib\\site-packages\\pandas\\core\\frame.py:3391: SettingWithCopyWarning: \n",
      "A value is trying to be set on a copy of a slice from a DataFrame.\n",
      "Try using .loc[row_indexer,col_indexer] = value instead\n",
      "\n",
      "See the caveats in the documentation: http://pandas.pydata.org/pandas-docs/stable/indexing.html#indexing-view-versus-copy\n",
      "  self[k1] = value[k2]\n"
     ]
    }
   ],
   "source": [
    "### handling skewed numerical columns\n",
    "\n",
    "# log skewness with an absolute value > 0.5\n",
    "skewness = train_num.apply(lambda x: skew(x))\n",
    "skewness = skewness[abs(skewness) > 0.5]\n",
    "print(str(skewness.shape[0]) + \" skewed numerical features to log transform\")\n",
    "skewed_features = skewness.index\n",
    "train_num[skewed_features] = np.log1p(train_num[skewed_features])\n",
    "\n",
    "# for i in skewed_rows:\n",
    "#     num_feats[i]= boxcox1p(num_feats[i], boxcox_normmax(num_feats[i]+1))"
   ]
  },
  {
   "cell_type": "code",
   "execution_count": 50,
   "metadata": {},
   "outputs": [],
   "source": [
    "# Create dummy features for categorical values via one-hot encoding\n",
    "train_cat = pd.get_dummies(train_cat)"
   ]
  },
  {
   "cell_type": "code",
   "execution_count": 51,
   "metadata": {
    "scrolled": true
   },
   "outputs": [
    {
     "name": "stdout",
     "output_type": "stream",
     "text": [
      "New number of features : 272\n"
     ]
    }
   ],
   "source": [
    "# Join categorical and numerical features\n",
    "train = pd.concat([train_num, train_cat], axis = 1)\n",
    "print(\"New number of features : \" + str(train.shape[1]))\n"
   ]
  },
  {
   "cell_type": "code",
   "execution_count": 52,
   "metadata": {},
   "outputs": [],
   "source": [
    "def Penalization_term(beta, alpha, rho = 0, penalize='Ridge'):\n",
    "    if penalize not in ['Ridge', 'Lasso', 'ElasticNet']: raise ValueError('The token ${\\bf penalize}$ is invalid!')\n",
    "    if penalize == 'Ridge':\n",
    "            return alpha * np.sum(beta[1:]**2)\n",
    "    elif penalize == 'Lasso':\n",
    "            return alpha * np.sum(np.abs(beta[1:]))\n",
    "    elif penalize == 'ElasticNet':\n",
    "            return alpha * (rho * np.sum(np.abs(beta[1:])) + (1 - rho) * np.sum(beta[1:]**2))"
   ]
  },
  {
   "cell_type": "code",
   "execution_count": 53,
   "metadata": {},
   "outputs": [],
   "source": [
    "test = test[test.GrLivArea < 4000]"
   ]
  },
  {
   "cell_type": "code",
   "execution_count": 54,
   "metadata": {},
   "outputs": [
    {
     "data": {
      "text/plain": [
       "(1458, 74)"
      ]
     },
     "execution_count": 54,
     "metadata": {},
     "output_type": "execute_result"
    }
   ],
   "source": [
    "test.shape"
   ]
  },
  {
   "cell_type": "code",
   "execution_count": 55,
   "metadata": {},
   "outputs": [],
   "source": [
    "train1 = train1[train1.GrLivArea < 4000]"
   ]
  },
  {
   "cell_type": "code",
   "execution_count": 56,
   "metadata": {},
   "outputs": [],
   "source": [
    "salePrice = train1['SalePrice']"
   ]
  },
  {
   "cell_type": "code",
   "execution_count": 57,
   "metadata": {
    "scrolled": true
   },
   "outputs": [
    {
     "data": {
      "text/plain": [
       "MSSubClass               -2660.830664\n",
       "LotFrontage               1112.921345\n",
       "LotArea                  19262.723042\n",
       "OverallQual               7777.905217\n",
       "OverallCond              14032.394088\n",
       "YearBuilt                 3599.349488\n",
       "YearRemodAdd                56.085105\n",
       "MasVnrArea                2636.356579\n",
       "ExterQual                -1759.897912\n",
       "ExterCond               -17206.379473\n",
       "BsmtQual                 21122.358689\n",
       "BsmtExposure              5767.797871\n",
       "BsmtFinType1              -445.071196\n",
       "BsmtFinSF1                1557.606902\n",
       "BsmtFinType2              2983.337469\n",
       "BsmtFinSF2               -1702.819155\n",
       "BsmtUnfSF                -1539.675881\n",
       "TotalBsmtSF                 51.596675\n",
       "HeatingQC                 3094.320489\n",
       "1stFlrSF                 30952.289653\n",
       "2ndFlrSF                  5556.656509\n",
       "LowQualFinSF              1813.951576\n",
       "GrLivArea                29022.010632\n",
       "BsmtFullBath             19052.804106\n",
       "BsmtHalfBath             12966.051051\n",
       "FullBath                 14735.979997\n",
       "HalfBath                 25434.367835\n",
       "BedroomAbvGr             -3419.497967\n",
       "KitchenAbvGr             12483.542700\n",
       "KitchenQual              10401.620960\n",
       "                             ...     \n",
       "SaleType_ConLD            2265.455325\n",
       "SaleType_ConLI           -6388.284682\n",
       "SaleType_ConLw           -3018.378641\n",
       "SaleType_New             13926.341454\n",
       "SaleType_Oth             -1233.509921\n",
       "SaleType_WD              -9350.148333\n",
       "SaleCondition_Abnorml    -4898.490082\n",
       "SaleCondition_AdjLand    10937.191931\n",
       "SaleCondition_Alloca      1680.423811\n",
       "SaleCondition_Family     -7970.782439\n",
       "SaleCondition_Normal      3195.458922\n",
       "SaleCondition_Partial    -2943.802143\n",
       "CombinedBsmt_0           14943.593006\n",
       "CombinedBsmt_5             267.633275\n",
       "CombinedBsmt_6            1139.738336\n",
       "CombinedBsmt_7            1776.791456\n",
       "CombinedBsmt_8           -7944.984848\n",
       "CombinedBsmt_9          -13728.905946\n",
       "CombinedBsmt_10         -13085.177888\n",
       "CombinedBsmt_11         -10781.757841\n",
       "CombinedBsmt_12         -10065.642630\n",
       "CombinedBsmt_13          -8799.567032\n",
       "CombinedBsmt_14          -9816.504036\n",
       "CombinedBsmt_15          -4396.924269\n",
       "CombinedBsmt_16         -10656.432003\n",
       "CombinedBsmt_17          -4415.911379\n",
       "CombinedBsmt_18          25274.248075\n",
       "CombinedBsmt_19           6997.852582\n",
       "CombinedBsmt_20         -13424.350199\n",
       "CombinedBsmt_22          56716.301342\n",
       "Length: 272, dtype: float64"
      ]
     },
     "execution_count": 57,
     "metadata": {},
     "output_type": "execute_result"
    }
   ],
   "source": [
    "ridge.set_params(alpha=1.0)\n",
    "ridge.fit(train, salePrice)\n",
    "ridge.score(train, salePrice)\n",
    "pd.Series(ridge.coef_, index= train.columns)"
   ]
  },
  {
   "cell_type": "code",
   "execution_count": 58,
   "metadata": {},
   "outputs": [
    {
     "data": {
      "text/plain": [
       "Lasso(alpha=1, copy_X=True, fit_intercept=True, max_iter=1000, normalize=True,\n",
       "   positive=False, precompute=False, random_state=None, selection='cyclic',\n",
       "   tol=0.0001, warm_start=False)"
      ]
     },
     "execution_count": 58,
     "metadata": {},
     "output_type": "execute_result"
    }
   ],
   "source": [
    "lasso.set_params(alpha=1, normalize=True)"
   ]
  },
  {
   "cell_type": "code",
   "execution_count": 59,
   "metadata": {},
   "outputs": [
    {
     "name": "stdout",
     "output_type": "stream",
     "text": [
      "The intercept is -1689197.2717\n",
      "The slopes are \n",
      "MSSubClass                -2389.392192\n",
      "LotFrontage                  35.809515\n",
      "LotArea                   20130.359882\n",
      "OverallQual               26200.225546\n",
      "OverallCond              143476.396395\n",
      "YearBuilt                321845.524493\n",
      "YearRemodAdd                 87.673982\n",
      "MasVnrArea                 2029.956771\n",
      "ExterQual                    -0.000000\n",
      "ExterCond                -14366.713816\n",
      "BsmtQual                  18033.228083\n",
      "BsmtExposure               4187.590194\n",
      "BsmtFinType1               -869.335153\n",
      "BsmtFinSF1                 1329.526822\n",
      "BsmtFinType2               -863.877341\n",
      "BsmtFinSF2                -1532.650697\n",
      "BsmtUnfSF                 -1420.253920\n",
      "TotalBsmtSF                  46.046684\n",
      "HeatingQC                  3799.899538\n",
      "1stFlrSF                  29733.664083\n",
      "2ndFlrSF                   4527.141672\n",
      "LowQualFinSF               1465.514756\n",
      "GrLivArea                 33954.990009\n",
      "BsmtFullBath              34508.461622\n",
      "BsmtHalfBath              24620.873267\n",
      "FullBath                  24775.075386\n",
      "HalfBath                  34941.605478\n",
      "BedroomAbvGr              -2738.003265\n",
      "KitchenAbvGr              87731.351838\n",
      "KitchenQual               39571.458114\n",
      "                             ...      \n",
      "SaleType_ConLD            10795.673440\n",
      "SaleType_ConLI               -0.000000\n",
      "SaleType_ConLw             3949.629172\n",
      "SaleType_New              19229.392992\n",
      "SaleType_Oth               4516.953444\n",
      "SaleType_WD               -1297.514033\n",
      "SaleCondition_Abnorml     -7606.734947\n",
      "SaleCondition_AdjLand     17612.548125\n",
      "SaleCondition_Alloca        445.388739\n",
      "SaleCondition_Family     -11513.470875\n",
      "SaleCondition_Normal          0.000000\n",
      "SaleCondition_Partial        -0.000000\n",
      "CombinedBsmt_0                5.039155\n",
      "CombinedBsmt_5             1846.888280\n",
      "CombinedBsmt_6             8445.558747\n",
      "CombinedBsmt_7             6429.198464\n",
      "CombinedBsmt_8            -2772.731289\n",
      "CombinedBsmt_9            -7108.359218\n",
      "CombinedBsmt_10           -5731.530897\n",
      "CombinedBsmt_11           -2698.970175\n",
      "CombinedBsmt_12           -1406.435039\n",
      "CombinedBsmt_13               0.000000\n",
      "CombinedBsmt_14              -0.000000\n",
      "CombinedBsmt_15            5570.067063\n",
      "CombinedBsmt_16             750.223721\n",
      "CombinedBsmt_17            7967.852099\n",
      "CombinedBsmt_18           39111.395108\n",
      "CombinedBsmt_19           18982.440659\n",
      "CombinedBsmt_20          -14785.639485\n",
      "CombinedBsmt_22          133270.134524\n",
      "Length: 272, dtype: float64\n"
     ]
    },
    {
     "name": "stderr",
     "output_type": "stream",
     "text": [
      "C:\\Users\\jdsip\\anaconda3\\lib\\site-packages\\sklearn\\linear_model\\coordinate_descent.py:492: ConvergenceWarning: Objective did not converge. You might want to increase the number of iterations. Fitting data with very small alpha may cause precision problems.\n",
      "  ConvergenceWarning)\n"
     ]
    }
   ],
   "source": [
    "lasso.fit(train, salePrice)\n",
    "print('The intercept is %.4f' %(lasso.intercept_))\n",
    "lassoCoef = pd.Series(lasso.coef_, index=train.columns)\n",
    "print('The slopes are \\n%s' %(lassoCoef))"
   ]
  },
  {
   "cell_type": "code",
   "execution_count": 60,
   "metadata": {},
   "outputs": [
    {
     "data": {
      "text/plain": [
       "array([[<matplotlib.axes._subplots.AxesSubplot object at 0x000001EFCC596EB8>,\n",
       "        <matplotlib.axes._subplots.AxesSubplot object at 0x000001EFCC641F98>]],\n",
       "      dtype=object)"
      ]
     },
     "execution_count": 60,
     "metadata": {},
     "output_type": "execute_result"
    },
    {
     "data": {
      "image/png": "[encoded data removed]",
      "text/plain": [
       "<Figure size 576x360 with 2 Axes>"
      ]
     },
     "metadata": {
      "needs_background": "light"
     },
     "output_type": "display_data"
    }
   ],
   "source": [
    "# Data PreProcessing\n",
    "new_price = {\"Sale Price\":train1[\"SalePrice\"], \"log Sale Price\":np.log1p(train1[\"SalePrice\"])}\n",
    "prices = pd.DataFrame(new_price)\n",
    "matplotlib.rcParams['figure.figsize'] = (8.0, 5.0)\n",
    "prices.hist()"
   ]
  },
  {
   "cell_type": "code",
   "execution_count": 61,
   "metadata": {},
   "outputs": [],
   "source": [
    "#log transform the target:\n",
    "salePrice = np.log1p(train1[\"SalePrice\"])\n"
   ]
  },
  {
   "cell_type": "code",
   "execution_count": 62,
   "metadata": {},
   "outputs": [],
   "source": [
    "X_train = train[:train.shape[0]]"
   ]
  },
  {
   "cell_type": "code",
   "execution_count": 63,
   "metadata": {},
   "outputs": [],
   "source": [
    "X_test = train[train.shape[0]:]"
   ]
  },
  {
   "cell_type": "code",
   "execution_count": 64,
   "metadata": {},
   "outputs": [
    {
     "name": "stdout",
     "output_type": "stream",
     "text": [
      "(1442, 272)\n",
      "(0, 272)\n"
     ]
    }
   ],
   "source": [
    "print(X_train.shape)\n",
    "print(X_test.shape)"
   ]
  },
  {
   "cell_type": "code",
   "execution_count": 65,
   "metadata": {
    "scrolled": true
   },
   "outputs": [
    {
     "data": {
      "text/plain": [
       "array([-0.01083161, -0.01360651, -0.01548245, -0.01233969, -0.01327356])"
      ]
     },
     "execution_count": 65,
     "metadata": {},
     "output_type": "execute_result"
    }
   ],
   "source": [
    "###Model Ridge regression\n",
    "from sklearn.linear_model import Ridge, RidgeCV, ElasticNet, LassoCV, LassoLarsCV\n",
    "from sklearn.model_selection import cross_val_score\n",
    "cross_val_score(ridge, X_train, salePrice, scoring=\"neg_mean_squared_error\", cv = 5)"
   ]
  },
  {
   "cell_type": "code",
   "execution_count": 66,
   "metadata": {},
   "outputs": [
    {
     "data": {
      "text/plain": [
       "array([0.10407504, 0.11664695, 0.1244285 , 0.11108416, 0.11521096])"
      ]
     },
     "execution_count": 66,
     "metadata": {},
     "output_type": "execute_result"
    }
   ],
   "source": [
    "rmse_ridge = np.sqrt(-cross_val_score(ridge, X_train, salePrice, scoring=\"neg_mean_squared_error\", cv = 5))\n",
    "rmse_ridge"
   ]
  },
  {
   "cell_type": "code",
   "execution_count": 67,
   "metadata": {},
   "outputs": [
    {
     "data": {
      "text/plain": [
       "Text(0, 0.5, 'rmse')"
      ]
     },
     "execution_count": 67,
     "metadata": {},
     "output_type": "execute_result"
    },
    {
     "data": {
      "image/png": "[encoded data removed]",
      "text/plain": [
       "<Figure size 576x360 with 1 Axes>"
      ]
     },
     "metadata": {
      "needs_background": "light"
     },
     "output_type": "display_data"
    }
   ],
   "source": [
    "alphas = [0.05, 0.1, 0.3, 1, 3, 5, 10, 15, 30, 50, 75]\n",
    "def rmse_cv(model):\n",
    "    rmse= np.sqrt(-cross_val_score(model, X_train, salePrice, scoring=\"neg_mean_squared_error\", cv = 5))\n",
    "    return(rmse)\n",
    "cv_ridge = [rmse_cv(Ridge(alpha = alpha)).mean() \n",
    "            for alpha in alphas]\n",
    "cv_ridge = pd.Series(cv_ridge, index = alphas)\n",
    "cv_ridge.plot(title = \"Validation\")\n",
    "plt.xlabel(\"alpha\")\n",
    "plt.ylabel(\"rmse\")"
   ]
  },
  {
   "cell_type": "code",
   "execution_count": 68,
   "metadata": {},
   "outputs": [
    {
     "data": {
      "text/plain": [
       "(array([  3.,   1.,   3.,  10.,  66., 402., 750., 187.,  17.,   3.]),\n",
       " array([-0.66849517, -0.56119672, -0.45389828, -0.34659984, -0.23930139,\n",
       "        -0.13200295, -0.02470451,  0.08259394,  0.18989238,  0.29719082,\n",
       "         0.40448927]),\n",
       " <a list of 10 Patch objects>)"
      ]
     },
     "execution_count": 68,
     "metadata": {},
     "output_type": "execute_result"
    },
    {
     "data": {
      "image/png": "[encoded data removed]",
      "text/plain": [
       "<Figure size 576x360 with 1 Axes>"
      ]
     },
     "metadata": {
      "needs_background": "light"
     },
     "output_type": "display_data"
    }
   ],
   "source": [
    "from sklearn.linear_model import LinearRegression\n",
    "\n",
    "lm = LinearRegression()\n",
    "lm.fit(train, salePrice)\n",
    "residuals = salePrice - lm.predict(train)\n",
    "plt.hist(residuals)"
   ]
  },
  {
   "cell_type": "code",
   "execution_count": 69,
   "metadata": {},
   "outputs": [
    {
     "data": {
      "text/plain": [
       "array([[<matplotlib.axes._subplots.AxesSubplot object at 0x000001EFCC71A4E0>,\n",
       "        <matplotlib.axes._subplots.AxesSubplot object at 0x000001EFCCD21CF8>,\n",
       "        <matplotlib.axes._subplots.AxesSubplot object at 0x000001EFCCD48F28>,\n",
       "        <matplotlib.axes._subplots.AxesSubplot object at 0x000001EFCCD79198>,\n",
       "        <matplotlib.axes._subplots.AxesSubplot object at 0x000001EFCCDA1400>,\n",
       "        <matplotlib.axes._subplots.AxesSubplot object at 0x000001EFCCDC9668>],\n",
       "       [<matplotlib.axes._subplots.AxesSubplot object at 0x000001EFCCDF28D0>,\n",
       "        <matplotlib.axes._subplots.AxesSubplot object at 0x000001EFCCE1BB70>,\n",
       "        <matplotlib.axes._subplots.AxesSubplot object at 0x000001EFCCE1BBA8>,\n",
       "        <matplotlib.axes._subplots.AxesSubplot object at 0x000001EFCCE77048>,\n",
       "        <matplotlib.axes._subplots.AxesSubplot object at 0x000001EFCCEA02B0>,\n",
       "        <matplotlib.axes._subplots.AxesSubplot object at 0x000001EFCCEC7518>],\n",
       "       [<matplotlib.axes._subplots.AxesSubplot object at 0x000001EFCCEF0780>,\n",
       "        <matplotlib.axes._subplots.AxesSubplot object at 0x000001EFCCF199E8>,\n",
       "        <matplotlib.axes._subplots.AxesSubplot object at 0x000001EFCCF42C50>,\n",
       "        <matplotlib.axes._subplots.AxesSubplot object at 0x000001EFCCF6BEB8>,\n",
       "        <matplotlib.axes._subplots.AxesSubplot object at 0x000001EFCCF9E160>,\n",
       "        <matplotlib.axes._subplots.AxesSubplot object at 0x000001EFCCFC63C8>],\n",
       "       [<matplotlib.axes._subplots.AxesSubplot object at 0x000001EFCCFED630>,\n",
       "        <matplotlib.axes._subplots.AxesSubplot object at 0x000001EFCD017898>,\n",
       "        <matplotlib.axes._subplots.AxesSubplot object at 0x000001EFCD03FB00>,\n",
       "        <matplotlib.axes._subplots.AxesSubplot object at 0x000001EFCD069D68>,\n",
       "        <matplotlib.axes._subplots.AxesSubplot object at 0x000001EFCD091FD0>,\n",
       "        <matplotlib.axes._subplots.AxesSubplot object at 0x000001EFCD0C2278>],\n",
       "       [<matplotlib.axes._subplots.AxesSubplot object at 0x000001EFCD0ED4E0>,\n",
       "        <matplotlib.axes._subplots.AxesSubplot object at 0x000001EFCD115748>,\n",
       "        <matplotlib.axes._subplots.AxesSubplot object at 0x000001EFCD1409B0>,\n",
       "        <matplotlib.axes._subplots.AxesSubplot object at 0x000001EFCD169C18>,\n",
       "        <matplotlib.axes._subplots.AxesSubplot object at 0x000001EFCD192E80>,\n",
       "        <matplotlib.axes._subplots.AxesSubplot object at 0x000001EFCD1C3320>],\n",
       "       [<matplotlib.axes._subplots.AxesSubplot object at 0x000001EFCD1E9898>,\n",
       "        <matplotlib.axes._subplots.AxesSubplot object at 0x000001EFCF442E10>,\n",
       "        <matplotlib.axes._subplots.AxesSubplot object at 0x000001EFCF4743C8>,\n",
       "        <matplotlib.axes._subplots.AxesSubplot object at 0x000001EFCF49B940>,\n",
       "        <matplotlib.axes._subplots.AxesSubplot object at 0x000001EFCF4C2EB8>,\n",
       "        <matplotlib.axes._subplots.AxesSubplot object at 0x000001EFCF4F5470>],\n",
       "       [<matplotlib.axes._subplots.AxesSubplot object at 0x000001EFCF51C9E8>,\n",
       "        <matplotlib.axes._subplots.AxesSubplot object at 0x000001EFCF544F60>,\n",
       "        <matplotlib.axes._subplots.AxesSubplot object at 0x000001EFCF576518>,\n",
       "        <matplotlib.axes._subplots.AxesSubplot object at 0x000001EFCF59CA90>,\n",
       "        <matplotlib.axes._subplots.AxesSubplot object at 0x000001EFCF5CE048>,\n",
       "        <matplotlib.axes._subplots.AxesSubplot object at 0x000001EFCF5F45C0>]],\n",
       "      dtype=object)"
      ]
     },
     "execution_count": 69,
     "metadata": {},
     "output_type": "execute_result"
    },
    {
     "data": {
      "image/png": "[encoded data removed]",
      "text/plain": [
       "<Figure size 1440x1080 with 42 Axes>"
      ]
     },
     "metadata": {
      "needs_background": "light"
     },
     "output_type": "display_data"
    }
   ],
   "source": [
    "train1.hist(bins=50, figsize=(20,15))"
   ]
  },
  {
   "cell_type": "code",
   "execution_count": 70,
   "metadata": {
    "scrolled": true
   },
   "outputs": [
    {
     "name": "stdout",
     "output_type": "stream",
     "text": [
      "(1153, 272) (1153,)\n",
      "(289, 272) (289,)\n",
      "Score:  0.9044394477824145\n",
      "R^2 is equal to 0.943\n",
      "RSS is equal to 12.830\n"
     ]
    },
    {
     "data": {
      "image/png": "[encoded data removed]",
      "text/plain": [
       "<Figure size 576x360 with 1 Axes>"
      ]
     },
     "metadata": {
      "needs_background": "light"
     },
     "output_type": "display_data"
    }
   ],
   "source": [
    "# create training and testing vars\n",
    "X_train, X_test, y_train, y_test = train_test_split(train, salePrice, test_size=0.2)\n",
    "print(X_train.shape, y_train.shape)\n",
    "print(X_test.shape, y_test.shape)\n",
    "\n",
    "# fit a model\n",
    "lm = LinearRegression()\n",
    "model = lm.fit(X_train, y_train)\n",
    "predictions = lm.predict(X_test)\n",
    "\n",
    "## The line / model\n",
    "plt.scatter(y_test, predictions,color = \"blue\", marker =\"s\", label = \"Training data\")\n",
    "plt.xlabel(\"True Vals\")\n",
    "plt.ylabel(\"Predictions\")\n",
    "\n",
    "print (\"Score: \", model.score(X_test, y_test))\n",
    "print('R^2 is equal to %.3f' %(lm.score(train, salePrice)))\n",
    "print('RSS is equal to %.3f' %(np.sum((salePrice-lm.predict(train))**2)))"
   ]
  },
  {
   "cell_type": "code",
   "execution_count": 71,
   "metadata": {
    "scrolled": false
   },
   "outputs": [
    {
     "data": {
      "text/plain": [
       "PConc     642\n",
       "CBlock    633\n",
       "BrkTil    136\n",
       "Slab       24\n",
       "Stone       4\n",
       "Wood        3\n",
       "Name: Foundation, dtype: int64"
      ]
     },
     "execution_count": 71,
     "metadata": {},
     "output_type": "execute_result"
    }
   ],
   "source": [
    "train1['Foundation'].value_counts()"
   ]
  },
  {
   "cell_type": "code",
   "execution_count": 79,
   "metadata": {},
   "outputs": [
    {
     "ename": "KeyError",
     "evalue": "'SalePrice'",
     "output_type": "error",
     "traceback": [
      "\u001b[1;31m---------------------------------------------------------------------------\u001b[0m",
      "\u001b[1;31mKeyError\u001b[0m                                  Traceback (most recent call last)",
      "\u001b[1;32m~\\anaconda3\\lib\\site-packages\\pandas\\core\\indexes\\base.py\u001b[0m in \u001b[0;36mget_loc\u001b[1;34m(self, key, method, tolerance)\u001b[0m\n\u001b[0;32m   2656\u001b[0m             \u001b[1;32mtry\u001b[0m\u001b[1;33m:\u001b[0m\u001b[1;33m\u001b[0m\u001b[1;33m\u001b[0m\u001b[0m\n\u001b[1;32m-> 2657\u001b[1;33m                 \u001b[1;32mreturn\u001b[0m \u001b[0mself\u001b[0m\u001b[1;33m.\u001b[0m\u001b[0m_engine\u001b[0m\u001b[1;33m.\u001b[0m\u001b[0mget_loc\u001b[0m\u001b[1;33m(\u001b[0m\u001b[0mkey\u001b[0m\u001b[1;33m)\u001b[0m\u001b[1;33m\u001b[0m\u001b[1;33m\u001b[0m\u001b[0m\n\u001b[0m\u001b[0;32m   2658\u001b[0m             \u001b[1;32mexcept\u001b[0m \u001b[0mKeyError\u001b[0m\u001b[1;33m:\u001b[0m\u001b[1;33m\u001b[0m\u001b[1;33m\u001b[0m\u001b[0m\n",
      "\u001b[1;32mpandas/_libs/index.pyx\u001b[0m in \u001b[0;36mpandas._libs.index.IndexEngine.get_loc\u001b[1;34m()\u001b[0m\n",
      "\u001b[1;32mpandas/_libs/index.pyx\u001b[0m in \u001b[0;36mpandas._libs.index.IndexEngine.get_loc\u001b[1;34m()\u001b[0m\n",
      "\u001b[1;32mpandas/_libs/hashtable_class_helper.pxi\u001b[0m in \u001b[0;36mpandas._libs.hashtable.PyObjectHashTable.get_item\u001b[1;34m()\u001b[0m\n",
      "\u001b[1;32mpandas/_libs/hashtable_class_helper.pxi\u001b[0m in \u001b[0;36mpandas._libs.hashtable.PyObjectHashTable.get_item\u001b[1;34m()\u001b[0m\n",
      "\u001b[1;31mKeyError\u001b[0m: 'SalePrice'",
      "\nDuring handling of the above exception, another exception occurred:\n",
      "\u001b[1;31mKeyError\u001b[0m                                  Traceback (most recent call last)",
      "\u001b[1;32m<ipython-input-79-c7dcd4b3594f>\u001b[0m in \u001b[0;36m<module>\u001b[1;34m\u001b[0m\n\u001b[1;32m----> 1\u001b[1;33m \u001b[0mtrain\u001b[0m\u001b[1;33m[\u001b[0m\u001b[1;34m'SalePrice'\u001b[0m\u001b[1;33m]\u001b[0m\u001b[1;33m\u001b[0m\u001b[1;33m\u001b[0m\u001b[0m\n\u001b[0m",
      "\u001b[1;32m~\\anaconda3\\lib\\site-packages\\pandas\\core\\frame.py\u001b[0m in \u001b[0;36m__getitem__\u001b[1;34m(self, key)\u001b[0m\n\u001b[0;32m   2925\u001b[0m             \u001b[1;32mif\u001b[0m \u001b[0mself\u001b[0m\u001b[1;33m.\u001b[0m\u001b[0mcolumns\u001b[0m\u001b[1;33m.\u001b[0m\u001b[0mnlevels\u001b[0m \u001b[1;33m>\u001b[0m \u001b[1;36m1\u001b[0m\u001b[1;33m:\u001b[0m\u001b[1;33m\u001b[0m\u001b[1;33m\u001b[0m\u001b[0m\n\u001b[0;32m   2926\u001b[0m                 \u001b[1;32mreturn\u001b[0m \u001b[0mself\u001b[0m\u001b[1;33m.\u001b[0m\u001b[0m_getitem_multilevel\u001b[0m\u001b[1;33m(\u001b[0m\u001b[0mkey\u001b[0m\u001b[1;33m)\u001b[0m\u001b[1;33m\u001b[0m\u001b[1;33m\u001b[0m\u001b[0m\n\u001b[1;32m-> 2927\u001b[1;33m             \u001b[0mindexer\u001b[0m \u001b[1;33m=\u001b[0m \u001b[0mself\u001b[0m\u001b[1;33m.\u001b[0m\u001b[0mcolumns\u001b[0m\u001b[1;33m.\u001b[0m\u001b[0mget_loc\u001b[0m\u001b[1;33m(\u001b[0m\u001b[0mkey\u001b[0m\u001b[1;33m)\u001b[0m\u001b[1;33m\u001b[0m\u001b[1;33m\u001b[0m\u001b[0m\n\u001b[0m\u001b[0;32m   2928\u001b[0m             \u001b[1;32mif\u001b[0m \u001b[0mis_integer\u001b[0m\u001b[1;33m(\u001b[0m\u001b[0mindexer\u001b[0m\u001b[1;33m)\u001b[0m\u001b[1;33m:\u001b[0m\u001b[1;33m\u001b[0m\u001b[1;33m\u001b[0m\u001b[0m\n\u001b[0;32m   2929\u001b[0m                 \u001b[0mindexer\u001b[0m \u001b[1;33m=\u001b[0m \u001b[1;33m[\u001b[0m\u001b[0mindexer\u001b[0m\u001b[1;33m]\u001b[0m\u001b[1;33m\u001b[0m\u001b[1;33m\u001b[0m\u001b[0m\n",
      "\u001b[1;32m~\\anaconda3\\lib\\site-packages\\pandas\\core\\indexes\\base.py\u001b[0m in \u001b[0;36mget_loc\u001b[1;34m(self, key, method, tolerance)\u001b[0m\n\u001b[0;32m   2657\u001b[0m                 \u001b[1;32mreturn\u001b[0m \u001b[0mself\u001b[0m\u001b[1;33m.\u001b[0m\u001b[0m_engine\u001b[0m\u001b[1;33m.\u001b[0m\u001b[0mget_loc\u001b[0m\u001b[1;33m(\u001b[0m\u001b[0mkey\u001b[0m\u001b[1;33m)\u001b[0m\u001b[1;33m\u001b[0m\u001b[1;33m\u001b[0m\u001b[0m\n\u001b[0;32m   2658\u001b[0m             \u001b[1;32mexcept\u001b[0m \u001b[0mKeyError\u001b[0m\u001b[1;33m:\u001b[0m\u001b[1;33m\u001b[0m\u001b[1;33m\u001b[0m\u001b[0m\n\u001b[1;32m-> 2659\u001b[1;33m                 \u001b[1;32mreturn\u001b[0m \u001b[0mself\u001b[0m\u001b[1;33m.\u001b[0m\u001b[0m_engine\u001b[0m\u001b[1;33m.\u001b[0m\u001b[0mget_loc\u001b[0m\u001b[1;33m(\u001b[0m\u001b[0mself\u001b[0m\u001b[1;33m.\u001b[0m\u001b[0m_maybe_cast_indexer\u001b[0m\u001b[1;33m(\u001b[0m\u001b[0mkey\u001b[0m\u001b[1;33m)\u001b[0m\u001b[1;33m)\u001b[0m\u001b[1;33m\u001b[0m\u001b[1;33m\u001b[0m\u001b[0m\n\u001b[0m\u001b[0;32m   2660\u001b[0m         \u001b[0mindexer\u001b[0m \u001b[1;33m=\u001b[0m \u001b[0mself\u001b[0m\u001b[1;33m.\u001b[0m\u001b[0mget_indexer\u001b[0m\u001b[1;33m(\u001b[0m\u001b[1;33m[\u001b[0m\u001b[0mkey\u001b[0m\u001b[1;33m]\u001b[0m\u001b[1;33m,\u001b[0m \u001b[0mmethod\u001b[0m\u001b[1;33m=\u001b[0m\u001b[0mmethod\u001b[0m\u001b[1;33m,\u001b[0m \u001b[0mtolerance\u001b[0m\u001b[1;33m=\u001b[0m\u001b[0mtolerance\u001b[0m\u001b[1;33m)\u001b[0m\u001b[1;33m\u001b[0m\u001b[1;33m\u001b[0m\u001b[0m\n\u001b[0;32m   2661\u001b[0m         \u001b[1;32mif\u001b[0m \u001b[0mindexer\u001b[0m\u001b[1;33m.\u001b[0m\u001b[0mndim\u001b[0m \u001b[1;33m>\u001b[0m \u001b[1;36m1\u001b[0m \u001b[1;32mor\u001b[0m \u001b[0mindexer\u001b[0m\u001b[1;33m.\u001b[0m\u001b[0msize\u001b[0m \u001b[1;33m>\u001b[0m \u001b[1;36m1\u001b[0m\u001b[1;33m:\u001b[0m\u001b[1;33m\u001b[0m\u001b[1;33m\u001b[0m\u001b[0m\n",
      "\u001b[1;32mpandas/_libs/index.pyx\u001b[0m in \u001b[0;36mpandas._libs.index.IndexEngine.get_loc\u001b[1;34m()\u001b[0m\n",
      "\u001b[1;32mpandas/_libs/index.pyx\u001b[0m in \u001b[0;36mpandas._libs.index.IndexEngine.get_loc\u001b[1;34m()\u001b[0m\n",
      "\u001b[1;32mpandas/_libs/hashtable_class_helper.pxi\u001b[0m in \u001b[0;36mpandas._libs.hashtable.PyObjectHashTable.get_item\u001b[1;34m()\u001b[0m\n",
      "\u001b[1;32mpandas/_libs/hashtable_class_helper.pxi\u001b[0m in \u001b[0;36mpandas._libs.hashtable.PyObjectHashTable.get_item\u001b[1;34m()\u001b[0m\n",
      "\u001b[1;31mKeyError\u001b[0m: 'SalePrice'"
     ]
    }
   ],
   "source": [
    "train['SalePrice']"
   ]
  },
  {
   "cell_type": "code",
   "execution_count": 72,
   "metadata": {},
   "outputs": [],
   "source": [
    "# corrmat = train.corr()\n",
    "# k = 20\n",
    "# cols = corrmat.nlargest(k, 'SalePrice')['SalePrice'].index\n",
    "# cm = np.corrcoef(train[cols].values.T)\n",
    "# sns.set(font_scale = 1.2)\n",
    "# Dwade = sns.heatmap(cm, cbar = True, annot= True, square = True, fmt = '.2f', annot_kws={'size':6},\n",
    "#                    yticklabels = cols.values, xticklabels = cols.values)\n",
    "# plt.show()"
   ]
  },
  {
   "cell_type": "code",
   "execution_count": 73,
   "metadata": {},
   "outputs": [],
   "source": [
    "# corrmat = train.corr()\n",
    "# k = 10\n",
    "# cols = corrmat.nlargest(k, 'SalePrice')['SalePrice'].index\n",
    "# cm = np.corrcoef(train[cols].values.T)\n",
    "# sns.set(font_scale = 1.2)\n",
    "# Dwade = sns.heatmap(cm, cbar = True, annot= True, square = True, fmt = '.2f', annot_kws={'size':10},\n",
    "#                    yticklabels = cols.values, xticklabels = cols.values)\n",
    "# plt.show()"
   ]
  },
  {
   "cell_type": "code",
   "execution_count": 80,
   "metadata": {},
   "outputs": [],
   "source": [
    "def scatter_plot(feature):\n",
    "    plt.figure(figsize =(16,8))\n",
    "    plt.scatter(\n",
    "        train[feature],\n",
    "        train1['SalePrice'],\n",
    "        c = 'blue'\n",
    "    )\n",
    "    plt.xlabel(\"{}\".format(feature))\n",
    "    plt.ylabel(\"Sale Price\")\n",
    "    plt.show()"
   ]
  },
  {
   "cell_type": "code",
   "execution_count": 82,
   "metadata": {},
   "outputs": [
    {
     "data": {
      "image/png": "[encoded data removed]",
      "text/plain": [
       "<Figure size 1152x576 with 1 Axes>"
      ]
     },
     "metadata": {
      "needs_background": "light"
     },
     "output_type": "display_data"
    }
   ],
   "source": [
    "scatter_plot('TotalBsmtSF')"
   ]
  }
 ],
 "metadata": {
  "kernelspec": {
   "display_name": "Python 3",
   "language": "python",
   "name": "python3"
  },
  "language_info": {
   "codemirror_mode": {
    "name": "ipython",
    "version": 3
   },
   "file_extension": ".py",
   "mimetype": "text/x-python",
   "name": "python",
   "nbconvert_exporter": "python",
   "pygments_lexer": "ipython3",
   "version": "3.7.3"
  }
 },
 "nbformat": 4,
 "nbformat_minor": 2
}
