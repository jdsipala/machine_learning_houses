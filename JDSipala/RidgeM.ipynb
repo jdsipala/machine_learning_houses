{
 "cells": [
  {
   "cell_type": "code",
   "execution_count": 1,
   "metadata": {},
   "outputs": [],
   "source": [
    "# Imports\n",
    "import pandas as pd\n",
    "import numpy as np\n",
    "from sklearn.model_selection import cross_val_score, train_test_split, KFold, GridSearchCV\n",
    "from sklearn.feature_selection import RFECV\n",
    "from sklearn.preprocessing import StandardScaler\n",
    "from sklearn.linear_model import LinearRegression, RidgeCV, LassoCV, ElasticNetCV\n",
    "from sklearn.metrics import mean_squared_error, make_scorer\n",
    "from scipy.stats import skew\n",
    "from IPython.display import display, HTML\n",
    "import matplotlib.pyplot as plt\n",
    "import seaborn as sns\n",
    "from scipy import stats\n",
    "from sklearn.linear_model import Ridge, Lasso, ElasticNet, LinearRegression\n",
    "ridge = Ridge()\n",
    "lasso = Lasso()\n",
    "net   = ElasticNet()\n",
    "from scipy.stats.stats import pearsonr\n",
    "%matplotlib inline\n",
    "from subprocess import check_output\n",
    "import matplotlib\n",
    "import sklearn.model_selection as ms\n",
    "import sklearn\n",
    "from sklearn.metrics import r2_score"
   ]
  },
  {
   "cell_type": "code",
   "execution_count": 2,
   "metadata": {},
   "outputs": [],
   "source": [
    "train = pd.read_csv('WithLogsAndNewFeats.csv')\n",
    "test = pd.read_csv('test.csv')"
   ]
  },
  {
   "cell_type": "code",
   "execution_count": 3,
   "metadata": {},
   "outputs": [],
   "source": [
    "# make X and y for train test split\n",
    "X = train.drop(columns = ['SalePrice'])\n",
    "y = train[\"SalePrice\"]\n",
    "# X_te = test"
   ]
  },
  {
   "cell_type": "code",
   "execution_count": 4,
   "metadata": {},
   "outputs": [],
   "source": [
    "# data split\n",
    "from sklearn.model_selection import train_test_split\n",
    "X_train, X_test, y_train, y_test = train_test_split(X, y, test_size=0.30, random_state=42)"
   ]
  },
  {
   "cell_type": "code",
   "execution_count": 5,
   "metadata": {},
   "outputs": [],
   "source": [
    "# define functions\n",
    "ridge = Ridge()\n",
    "lasso = Lasso()\n",
    "net = ElasticNet()"
   ]
  },
  {
   "cell_type": "code",
   "execution_count": 6,
   "metadata": {},
   "outputs": [
    {
     "name": "stdout",
     "output_type": "stream",
     "text": [
      "the ridge intercept is: 7.79\n"
     ]
    }
   ],
   "source": [
    "ridge.fit(X_train, y_train)\n",
    "print('the ridge intercept is: %.2f' %(ridge.intercept_))\n",
    "abcd = pd.Series(ridge.coef_,index = X_train.columns)\n",
    "# print(ridge.coef_)"
   ]
  },
  {
   "cell_type": "code",
   "execution_count": 7,
   "metadata": {},
   "outputs": [],
   "source": [
    "# abcd.abs().sort_values(ascending = False)"
   ]
  },
  {
   "cell_type": "code",
   "execution_count": 8,
   "metadata": {},
   "outputs": [
    {
     "data": {
      "text/plain": [
       "GridSearchCV(cv=5, error_score='raise-deprecating',\n",
       "       estimator=Ridge(alpha=1.0, copy_X=True, fit_intercept=True, max_iter=None,\n",
       "   normalize=False, random_state=None, solver='auto', tol=0.001),\n",
       "       fit_params=None, iid=True, n_jobs=None,\n",
       "       param_grid={'alpha': array([1.00000e-03, 4.08261e+00, 8.16422e+00, 1.22458e+01, 1.63274e+01,\n",
       "       2.04091e+01, 2.44907e+01, 2.85723e+01, 3.26539e+01, 3.67355e+01,\n",
       "       4.08171e+01, 4.48987e+01, 4.89803e+01, 5.30620e+01, 5.71436e+01,\n",
       "       6.12252e+01, 6.53068e+01, 6.93884e+01, 7.34700e+01, 7.75... 1.75510e+02, 1.79592e+02,\n",
       "       1.83674e+02, 1.87755e+02, 1.91837e+02, 1.95918e+02, 2.00000e+02])},\n",
       "       pre_dispatch='2*n_jobs', refit=True, return_train_score='warn',\n",
       "       scoring='neg_mean_squared_error', verbose=0)"
      ]
     },
     "execution_count": 8,
     "metadata": {},
     "output_type": "execute_result"
    }
   ],
   "source": [
    "alphas1 = np.linspace(1e-3, 200, 50)\n",
    "gs = GridSearchCV(ridge, {\"alpha\" : alphas1}, cv = 5, iid = True, scoring = \"neg_mean_squared_error\")\n",
    "gs.fit(X_train, y_train)"
   ]
  },
  {
   "cell_type": "code",
   "execution_count": 9,
   "metadata": {},
   "outputs": [
    {
     "data": {
      "text/plain": [
       "{'alpha': 4.08261224489796}"
      ]
     },
     "execution_count": 9,
     "metadata": {},
     "output_type": "execute_result"
    }
   ],
   "source": [
    "# optimal alpha\n",
    "gs.best_params_"
   ]
  },
  {
   "cell_type": "code",
   "execution_count": 10,
   "metadata": {},
   "outputs": [
    {
     "data": {
      "text/plain": [
       "-0.015515487251138532"
      ]
     },
     "execution_count": 10,
     "metadata": {},
     "output_type": "execute_result"
    }
   ],
   "source": [
    "# neg MSE\n",
    "gs.best_score_"
   ]
  },
  {
   "cell_type": "code",
   "execution_count": 11,
   "metadata": {},
   "outputs": [
    {
     "data": {
      "text/plain": [
       "Text(0, 0.5, 'rmse')"
      ]
     },
     "execution_count": 11,
     "metadata": {},
     "output_type": "execute_result"
    },
    {
     "data": {
      "image/png": "[encoded data removed]",
      "text/plain": [
       "<Figure size 432x288 with 1 Axes>"
      ]
     },
     "metadata": {
      "needs_background": "light"
     },
     "output_type": "display_data"
    }
   ],
   "source": [
    "alphas = [0.05, 0.1, 0.3, 1, 2,3,4, 5,6,7,8, 10, 20, 30]\n",
    "def rmse_cv(model):\n",
    "    rmse= np.sqrt(-cross_val_score(model, X_train, y_train, scoring=\"neg_mean_squared_error\", cv = 5))\n",
    "    return(rmse)\n",
    "cv_ridge = [rmse_cv(Ridge(alpha = alpha)).mean() \n",
    "            for alpha in alphas]\n",
    "cv_ridge = pd.Series(cv_ridge, index = alphas)\n",
    "cv_ridge.plot(title = \"Validation\")\n",
    "plt.xlabel(\"alpha\")\n",
    "plt.ylabel(\"rmse\")"
   ]
  },
  {
   "cell_type": "code",
   "execution_count": 12,
   "metadata": {},
   "outputs": [
    {
     "data": {
      "text/plain": [
       "0.12396919173493275"
      ]
     },
     "execution_count": 12,
     "metadata": {},
     "output_type": "execute_result"
    }
   ],
   "source": [
    "# calculate test error\n",
    "ridge.set_params(alpha=4.08261224489796,normalize = False)\n",
    "rmse = np.sqrt(-ms.cross_val_score(ridge,X_train, y_train, scoring=\"neg_mean_squared_error\", cv = 5))\n",
    "rmse.mean()"
   ]
  },
  {
   "cell_type": "code",
   "execution_count": 13,
   "metadata": {},
   "outputs": [
    {
     "data": {
      "text/plain": [
       "Ridge(alpha=4.08261224489796, copy_X=True, fit_intercept=True, max_iter=None,\n",
       "   normalize=False, random_state=None, solver='auto', tol=0.001)"
      ]
     },
     "execution_count": 13,
     "metadata": {},
     "output_type": "execute_result"
    }
   ],
   "source": [
    "# fit model\n",
    "ridge.set_params(alpha = 4.08261224489796, normalize = False)\n",
    "ridge.fit(X_train, y_train)"
   ]
  },
  {
   "cell_type": "code",
   "execution_count": 14,
   "metadata": {},
   "outputs": [
    {
     "name": "stdout",
     "output_type": "stream",
     "text": [
      "0.10693408744176182\n",
      "0.9324633854448972\n",
      "0.11090608697288137\n",
      "0.908212332866209\n"
     ]
    }
   ],
   "source": [
    "# prediction on train\n",
    "predict_train_rr = ridge.predict(X_train)\n",
    "print(np.sqrt(mean_squared_error(y_train,predict_train_rr)))\n",
    "print(r2_score(y_train, predict_train_rr))\n",
    "\n",
    "# prediction on test\n",
    "predict_test_rr = ridge.predict(X_test)\n",
    "print(np.sqrt(mean_squared_error(y_test,predict_test_rr)))\n",
    "print(r2_score(y_test, predict_test_rr))"
   ]
  },
  {
   "cell_type": "code",
   "execution_count": 15,
   "metadata": {},
   "outputs": [
    {
     "data": {
      "text/plain": [
       "array([-0.01876324, -0.0143635 , -0.01050301, -0.01750942, -0.01643826])"
      ]
     },
     "execution_count": 15,
     "metadata": {},
     "output_type": "execute_result"
    }
   ],
   "source": [
    "cross_val_score(ridge, X_train, y_train, scoring=\"neg_mean_squared_error\", cv = 5)"
   ]
  },
  {
   "cell_type": "code",
   "execution_count": 16,
   "metadata": {},
   "outputs": [],
   "source": [
    "# pd.DataFrame(predict_train_rr).to_csv(\"sampsubmish.csv\")"
   ]
  },
  {
   "cell_type": "code",
   "execution_count": 17,
   "metadata": {},
   "outputs": [],
   "source": [
    "predict_train_rrr = ridge.predict(X)"
   ]
  },
  {
   "cell_type": "code",
   "execution_count": 18,
   "metadata": {},
   "outputs": [],
   "source": [
    "# pd.DataFrame(predict_train_rrr).to_csv(\"sampsubmish.csv\")"
   ]
  }
 ],
 "metadata": {
  "kernelspec": {
   "display_name": "Python 3",
   "language": "python",
   "name": "python3"
  },
  "language_info": {
   "codemirror_mode": {
    "name": "ipython",
    "version": 3
   },
   "file_extension": ".py",
   "mimetype": "text/x-python",
   "name": "python",
   "nbconvert_exporter": "python",
   "pygments_lexer": "ipython3",
   "version": "3.7.3"
  }
 },
 "nbformat": 4,
 "nbformat_minor": 2
}
