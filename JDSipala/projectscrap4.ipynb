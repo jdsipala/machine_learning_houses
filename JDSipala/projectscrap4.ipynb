{
 "cells": [
  {
   "cell_type": "code",
   "execution_count": 6,
   "metadata": {},
   "outputs": [],
   "source": [
    "# Imports\n",
    "import pandas as pd\n",
    "import numpy as np\n",
    "from sklearn.model_selection import cross_val_score, train_test_split\n",
    "from sklearn.preprocessing import StandardScaler\n",
    "from sklearn.linear_model import LinearRegression, RidgeCV, LassoCV, ElasticNetCV\n",
    "from sklearn.metrics import mean_squared_error, make_scorer\n",
    "from scipy.stats import skew\n",
    "from IPython.display import display\n",
    "import matplotlib.pyplot as plt\n",
    "import seaborn as sns\n",
    "from scipy import stats\n",
    "from sklearn.linear_model import Ridge, Lasso, ElasticNet"
   ]
  },
  {
   "cell_type": "code",
   "execution_count": 7,
   "metadata": {},
   "outputs": [],
   "source": [
    "# Get data\n",
    "train = pd.read_csv(\"train.csv\")\n",
    "test = pd.read_csv('test.csv')"
   ]
  },
  {
   "cell_type": "code",
   "execution_count": 14,
   "metadata": {},
   "outputs": [
    {
     "data": {
      "text/html": [
       "<div>\n",
       "<style scoped>\n",
       "    .dataframe tbody tr th:only-of-type {\n",
       "        vertical-align: middle;\n",
       "    }\n",
       "\n",
       "    .dataframe tbody tr th {\n",
       "        vertical-align: top;\n",
       "    }\n",
       "\n",
       "    .dataframe thead th {\n",
       "        text-align: right;\n",
       "    }\n",
       "</style>\n",
       "<table border=\"1\" class=\"dataframe\">\n",
       "  <thead>\n",
       "    <tr style=\"text-align: right;\">\n",
       "      <th></th>\n",
       "      <th>Id</th>\n",
       "      <th>MSSubClass</th>\n",
       "      <th>MSZoning</th>\n",
       "      <th>LotFrontage</th>\n",
       "      <th>LotArea</th>\n",
       "      <th>Street</th>\n",
       "      <th>Alley</th>\n",
       "      <th>LotShape</th>\n",
       "      <th>LandContour</th>\n",
       "      <th>Utilities</th>\n",
       "      <th>...</th>\n",
       "      <th>PoolArea</th>\n",
       "      <th>PoolQC</th>\n",
       "      <th>Fence</th>\n",
       "      <th>MiscFeature</th>\n",
       "      <th>MiscVal</th>\n",
       "      <th>MoSold</th>\n",
       "      <th>YrSold</th>\n",
       "      <th>SaleType</th>\n",
       "      <th>SaleCondition</th>\n",
       "      <th>SalePrice</th>\n",
       "    </tr>\n",
       "  </thead>\n",
       "  <tbody>\n",
       "    <tr>\n",
       "      <th>809</th>\n",
       "      <td>810</td>\n",
       "      <td>75</td>\n",
       "      <td>RM</td>\n",
       "      <td>90.0</td>\n",
       "      <td>8100</td>\n",
       "      <td>Pave</td>\n",
       "      <td>NaN</td>\n",
       "      <td>Reg</td>\n",
       "      <td>Lvl</td>\n",
       "      <td>AllPub</td>\n",
       "      <td>...</td>\n",
       "      <td>0</td>\n",
       "      <td>NaN</td>\n",
       "      <td>MnPrv</td>\n",
       "      <td>NaN</td>\n",
       "      <td>0</td>\n",
       "      <td>11</td>\n",
       "      <td>2009</td>\n",
       "      <td>WD</td>\n",
       "      <td>Normal</td>\n",
       "      <td>106000</td>\n",
       "    </tr>\n",
       "    <tr>\n",
       "      <th>307</th>\n",
       "      <td>308</td>\n",
       "      <td>50</td>\n",
       "      <td>RM</td>\n",
       "      <td>NaN</td>\n",
       "      <td>7920</td>\n",
       "      <td>Pave</td>\n",
       "      <td>Grvl</td>\n",
       "      <td>IR1</td>\n",
       "      <td>Lvl</td>\n",
       "      <td>AllPub</td>\n",
       "      <td>...</td>\n",
       "      <td>0</td>\n",
       "      <td>NaN</td>\n",
       "      <td>MnPrv</td>\n",
       "      <td>NaN</td>\n",
       "      <td>0</td>\n",
       "      <td>3</td>\n",
       "      <td>2008</td>\n",
       "      <td>WD</td>\n",
       "      <td>Normal</td>\n",
       "      <td>89500</td>\n",
       "    </tr>\n",
       "    <tr>\n",
       "      <th>920</th>\n",
       "      <td>921</td>\n",
       "      <td>60</td>\n",
       "      <td>RL</td>\n",
       "      <td>70.0</td>\n",
       "      <td>8462</td>\n",
       "      <td>Pave</td>\n",
       "      <td>NaN</td>\n",
       "      <td>IR1</td>\n",
       "      <td>Lvl</td>\n",
       "      <td>AllPub</td>\n",
       "      <td>...</td>\n",
       "      <td>0</td>\n",
       "      <td>NaN</td>\n",
       "      <td>NaN</td>\n",
       "      <td>NaN</td>\n",
       "      <td>0</td>\n",
       "      <td>7</td>\n",
       "      <td>2007</td>\n",
       "      <td>WD</td>\n",
       "      <td>Normal</td>\n",
       "      <td>201000</td>\n",
       "    </tr>\n",
       "    <tr>\n",
       "      <th>1297</th>\n",
       "      <td>1298</td>\n",
       "      <td>180</td>\n",
       "      <td>RM</td>\n",
       "      <td>35.0</td>\n",
       "      <td>3675</td>\n",
       "      <td>Pave</td>\n",
       "      <td>NaN</td>\n",
       "      <td>Reg</td>\n",
       "      <td>Lvl</td>\n",
       "      <td>AllPub</td>\n",
       "      <td>...</td>\n",
       "      <td>0</td>\n",
       "      <td>NaN</td>\n",
       "      <td>NaN</td>\n",
       "      <td>NaN</td>\n",
       "      <td>0</td>\n",
       "      <td>6</td>\n",
       "      <td>2006</td>\n",
       "      <td>New</td>\n",
       "      <td>Partial</td>\n",
       "      <td>140000</td>\n",
       "    </tr>\n",
       "    <tr>\n",
       "      <th>750</th>\n",
       "      <td>751</td>\n",
       "      <td>50</td>\n",
       "      <td>RM</td>\n",
       "      <td>55.0</td>\n",
       "      <td>8800</td>\n",
       "      <td>Pave</td>\n",
       "      <td>Grvl</td>\n",
       "      <td>Reg</td>\n",
       "      <td>Lvl</td>\n",
       "      <td>AllPub</td>\n",
       "      <td>...</td>\n",
       "      <td>0</td>\n",
       "      <td>NaN</td>\n",
       "      <td>NaN</td>\n",
       "      <td>NaN</td>\n",
       "      <td>0</td>\n",
       "      <td>6</td>\n",
       "      <td>2010</td>\n",
       "      <td>WD</td>\n",
       "      <td>Normal</td>\n",
       "      <td>96500</td>\n",
       "    </tr>\n",
       "    <tr>\n",
       "      <th>1108</th>\n",
       "      <td>1109</td>\n",
       "      <td>60</td>\n",
       "      <td>RL</td>\n",
       "      <td>NaN</td>\n",
       "      <td>8063</td>\n",
       "      <td>Pave</td>\n",
       "      <td>NaN</td>\n",
       "      <td>Reg</td>\n",
       "      <td>Lvl</td>\n",
       "      <td>AllPub</td>\n",
       "      <td>...</td>\n",
       "      <td>0</td>\n",
       "      <td>NaN</td>\n",
       "      <td>NaN</td>\n",
       "      <td>NaN</td>\n",
       "      <td>0</td>\n",
       "      <td>11</td>\n",
       "      <td>2007</td>\n",
       "      <td>WD</td>\n",
       "      <td>Abnorml</td>\n",
       "      <td>181000</td>\n",
       "    </tr>\n",
       "    <tr>\n",
       "      <th>736</th>\n",
       "      <td>737</td>\n",
       "      <td>90</td>\n",
       "      <td>RL</td>\n",
       "      <td>60.0</td>\n",
       "      <td>8544</td>\n",
       "      <td>Pave</td>\n",
       "      <td>NaN</td>\n",
       "      <td>Reg</td>\n",
       "      <td>Lvl</td>\n",
       "      <td>AllPub</td>\n",
       "      <td>...</td>\n",
       "      <td>0</td>\n",
       "      <td>NaN</td>\n",
       "      <td>NaN</td>\n",
       "      <td>NaN</td>\n",
       "      <td>0</td>\n",
       "      <td>7</td>\n",
       "      <td>2006</td>\n",
       "      <td>WD</td>\n",
       "      <td>Normal</td>\n",
       "      <td>93500</td>\n",
       "    </tr>\n",
       "    <tr>\n",
       "      <th>70</th>\n",
       "      <td>71</td>\n",
       "      <td>20</td>\n",
       "      <td>RL</td>\n",
       "      <td>95.0</td>\n",
       "      <td>13651</td>\n",
       "      <td>Pave</td>\n",
       "      <td>NaN</td>\n",
       "      <td>IR1</td>\n",
       "      <td>Lvl</td>\n",
       "      <td>AllPub</td>\n",
       "      <td>...</td>\n",
       "      <td>0</td>\n",
       "      <td>NaN</td>\n",
       "      <td>NaN</td>\n",
       "      <td>NaN</td>\n",
       "      <td>0</td>\n",
       "      <td>2</td>\n",
       "      <td>2007</td>\n",
       "      <td>WD</td>\n",
       "      <td>Normal</td>\n",
       "      <td>244000</td>\n",
       "    </tr>\n",
       "    <tr>\n",
       "      <th>842</th>\n",
       "      <td>843</td>\n",
       "      <td>80</td>\n",
       "      <td>RL</td>\n",
       "      <td>82.0</td>\n",
       "      <td>9020</td>\n",
       "      <td>Pave</td>\n",
       "      <td>NaN</td>\n",
       "      <td>Reg</td>\n",
       "      <td>Lvl</td>\n",
       "      <td>AllPub</td>\n",
       "      <td>...</td>\n",
       "      <td>0</td>\n",
       "      <td>NaN</td>\n",
       "      <td>GdPrv</td>\n",
       "      <td>NaN</td>\n",
       "      <td>0</td>\n",
       "      <td>5</td>\n",
       "      <td>2008</td>\n",
       "      <td>WD</td>\n",
       "      <td>Normal</td>\n",
       "      <td>174900</td>\n",
       "    </tr>\n",
       "    <tr>\n",
       "      <th>786</th>\n",
       "      <td>787</td>\n",
       "      <td>50</td>\n",
       "      <td>RM</td>\n",
       "      <td>60.0</td>\n",
       "      <td>10800</td>\n",
       "      <td>Pave</td>\n",
       "      <td>NaN</td>\n",
       "      <td>Reg</td>\n",
       "      <td>Lvl</td>\n",
       "      <td>AllPub</td>\n",
       "      <td>...</td>\n",
       "      <td>0</td>\n",
       "      <td>NaN</td>\n",
       "      <td>NaN</td>\n",
       "      <td>Shed</td>\n",
       "      <td>1200</td>\n",
       "      <td>6</td>\n",
       "      <td>2010</td>\n",
       "      <td>WD</td>\n",
       "      <td>Normal</td>\n",
       "      <td>139000</td>\n",
       "    </tr>\n",
       "  </tbody>\n",
       "</table>\n",
       "<p>10 rows × 81 columns</p>\n",
       "</div>"
      ],
      "text/plain": [
       "        Id  MSSubClass MSZoning  LotFrontage  LotArea Street Alley LotShape  \\\n",
       "809    810          75       RM         90.0     8100   Pave   NaN      Reg   \n",
       "307    308          50       RM          NaN     7920   Pave  Grvl      IR1   \n",
       "920    921          60       RL         70.0     8462   Pave   NaN      IR1   \n",
       "1297  1298         180       RM         35.0     3675   Pave   NaN      Reg   \n",
       "750    751          50       RM         55.0     8800   Pave  Grvl      Reg   \n",
       "1108  1109          60       RL          NaN     8063   Pave   NaN      Reg   \n",
       "736    737          90       RL         60.0     8544   Pave   NaN      Reg   \n",
       "70      71          20       RL         95.0    13651   Pave   NaN      IR1   \n",
       "842    843          80       RL         82.0     9020   Pave   NaN      Reg   \n",
       "786    787          50       RM         60.0    10800   Pave   NaN      Reg   \n",
       "\n",
       "     LandContour Utilities  ... PoolArea PoolQC  Fence MiscFeature MiscVal  \\\n",
       "809          Lvl    AllPub  ...        0    NaN  MnPrv         NaN       0   \n",
       "307          Lvl    AllPub  ...        0    NaN  MnPrv         NaN       0   \n",
       "920          Lvl    AllPub  ...        0    NaN    NaN         NaN       0   \n",
       "1297         Lvl    AllPub  ...        0    NaN    NaN         NaN       0   \n",
       "750          Lvl    AllPub  ...        0    NaN    NaN         NaN       0   \n",
       "1108         Lvl    AllPub  ...        0    NaN    NaN         NaN       0   \n",
       "736          Lvl    AllPub  ...        0    NaN    NaN         NaN       0   \n",
       "70           Lvl    AllPub  ...        0    NaN    NaN         NaN       0   \n",
       "842          Lvl    AllPub  ...        0    NaN  GdPrv         NaN       0   \n",
       "786          Lvl    AllPub  ...        0    NaN    NaN        Shed    1200   \n",
       "\n",
       "     MoSold YrSold  SaleType  SaleCondition  SalePrice  \n",
       "809      11   2009        WD         Normal     106000  \n",
       "307       3   2008        WD         Normal      89500  \n",
       "920       7   2007        WD         Normal     201000  \n",
       "1297      6   2006       New        Partial     140000  \n",
       "750       6   2010        WD         Normal      96500  \n",
       "1108     11   2007        WD        Abnorml     181000  \n",
       "736       7   2006        WD         Normal      93500  \n",
       "70        2   2007        WD         Normal     244000  \n",
       "842       5   2008        WD         Normal     174900  \n",
       "786       6   2010        WD         Normal     139000  \n",
       "\n",
       "[10 rows x 81 columns]"
      ]
     },
     "execution_count": 14,
     "metadata": {},
     "output_type": "execute_result"
    }
   ],
   "source": [
    "train.sample(10)"
   ]
  },
  {
   "cell_type": "code",
   "execution_count": null,
   "metadata": {},
   "outputs": [],
   "source": []
  },
  {
   "cell_type": "code",
   "execution_count": 15,
   "metadata": {},
   "outputs": [],
   "source": [
    "# drop alley column\n",
    "# drop fence column\n",
    "# drop garage yr blt??? ask elliot abt zeros\n"
   ]
  },
  {
   "cell_type": "code",
   "execution_count": 16,
   "metadata": {},
   "outputs": [],
   "source": [
    "# Drop Id column\n",
    "train.drop([\"Id\",\"Street\",\"PoolQC\",\"Utilities\",\"MiscFeature\", \"Alley\"], axis = 1, inplace = True)\n",
    "test.drop([\"Id\",\"Street\",\"PoolQC\",\"Utilities\",\"MiscFeature\", \"Alley\"],axis = 1, inplace = True)"
   ]
  },
  {
   "cell_type": "code",
   "execution_count": 17,
   "metadata": {},
   "outputs": [
    {
     "data": {
      "image/png": "[encoded data removed]",
      "text/plain": [
       "<Figure size 432x288 with 1 Axes>"
      ]
     },
     "metadata": {
      "needs_background": "light"
     },
     "output_type": "display_data"
    }
   ],
   "source": [
    "plt.scatter(train.GrLivArea, train.SalePrice, c = \"blue\", marker = \"s\")\n",
    "plt.title(\"Looking for outliers\")\n",
    "plt.xlabel(\"GrLivArea\")\n",
    "plt.ylabel(\"SalePrice\")\n",
    "plt.show()\n",
    "\n",
    "train = train[train.GrLivArea < 4000]"
   ]
  },
  {
   "cell_type": "code",
   "execution_count": 18,
   "metadata": {},
   "outputs": [
    {
     "data": {
      "text/plain": [
       "(1456, 75)"
      ]
     },
     "execution_count": 18,
     "metadata": {},
     "output_type": "execute_result"
    }
   ],
   "source": [
    "train.shape"
   ]
  },
  {
   "cell_type": "code",
   "execution_count": 19,
   "metadata": {},
   "outputs": [
    {
     "data": {
      "text/plain": [
       "['MSSubClass',\n",
       " 'MSZoning',\n",
       " 'LotFrontage',\n",
       " 'LotArea',\n",
       " 'LotShape',\n",
       " 'LandContour',\n",
       " 'LotConfig',\n",
       " 'LandSlope',\n",
       " 'Neighborhood',\n",
       " 'Condition1',\n",
       " 'Condition2',\n",
       " 'BldgType',\n",
       " 'HouseStyle',\n",
       " 'OverallQual',\n",
       " 'OverallCond',\n",
       " 'YearBuilt',\n",
       " 'YearRemodAdd',\n",
       " 'RoofStyle',\n",
       " 'RoofMatl',\n",
       " 'Exterior1st',\n",
       " 'Exterior2nd',\n",
       " 'MasVnrType',\n",
       " 'MasVnrArea',\n",
       " 'ExterQual',\n",
       " 'ExterCond',\n",
       " 'Foundation',\n",
       " 'BsmtQual',\n",
       " 'BsmtCond',\n",
       " 'BsmtExposure',\n",
       " 'BsmtFinType1',\n",
       " 'BsmtFinSF1',\n",
       " 'BsmtFinType2',\n",
       " 'BsmtFinSF2',\n",
       " 'BsmtUnfSF',\n",
       " 'TotalBsmtSF',\n",
       " 'Heating',\n",
       " 'HeatingQC',\n",
       " 'CentralAir',\n",
       " 'Electrical',\n",
       " '1stFlrSF',\n",
       " '2ndFlrSF',\n",
       " 'LowQualFinSF',\n",
       " 'GrLivArea',\n",
       " 'BsmtFullBath',\n",
       " 'BsmtHalfBath',\n",
       " 'FullBath',\n",
       " 'HalfBath',\n",
       " 'BedroomAbvGr',\n",
       " 'KitchenAbvGr',\n",
       " 'KitchenQual',\n",
       " 'TotRmsAbvGrd',\n",
       " 'Functional',\n",
       " 'Fireplaces',\n",
       " 'FireplaceQu',\n",
       " 'GarageType',\n",
       " 'GarageYrBlt',\n",
       " 'GarageFinish',\n",
       " 'GarageCars',\n",
       " 'GarageArea',\n",
       " 'GarageQual',\n",
       " 'GarageCond',\n",
       " 'PavedDrive',\n",
       " 'WoodDeckSF',\n",
       " 'OpenPorchSF',\n",
       " 'EnclosedPorch',\n",
       " '3SsnPorch',\n",
       " 'ScreenPorch',\n",
       " 'PoolArea',\n",
       " 'Fence',\n",
       " 'MiscVal',\n",
       " 'MoSold',\n",
       " 'YrSold',\n",
       " 'SaleType',\n",
       " 'SaleCondition',\n",
       " 'SalePrice']"
      ]
     },
     "execution_count": 19,
     "metadata": {},
     "output_type": "execute_result"
    }
   ],
   "source": [
    "list(train.columns)"
   ]
  },
  {
   "cell_type": "code",
   "execution_count": 8,
   "metadata": {},
   "outputs": [],
   "source": [
    "train1 = train.copy()"
   ]
  },
  {
   "cell_type": "code",
   "execution_count": 21,
   "metadata": {},
   "outputs": [
    {
     "data": {
      "text/plain": [
       "6     253\n",
       "7     233\n",
       "5     204\n",
       "4     141\n",
       "8     122\n",
       "3     106\n",
       "10     88\n",
       "11     79\n",
       "9      63\n",
       "12     59\n",
       "1      56\n",
       "2      52\n",
       "Name: MoSold, dtype: int64"
      ]
     },
     "execution_count": 21,
     "metadata": {},
     "output_type": "execute_result"
    }
   ],
   "source": [
    "train1['MoSold'].value_counts()"
   ]
  },
  {
   "cell_type": "code",
   "execution_count": 22,
   "metadata": {},
   "outputs": [],
   "source": [
    "### Attempt at feature engineering\n",
    "# categorize months into different seasons based on number of houses sold... \n",
    "arr = []\n",
    "for i in range(0,1456):\n",
    "    if train['MoSold'].iloc[i] in [5, 6, 7]: \n",
    "        arr.append('HotSzn')\n",
    "    elif train['MoSold'].iloc[i] in [3, 4, 8]:\n",
    "        arr.append('MediumSzn')\n",
    "    elif train['MoSold'].iloc[i] in [9, 10, 11]: \n",
    "        arr.append('MildSzn')\n",
    "    else:\n",
    "        arr.append('ColdSzn')\n",
    "train['season'] = arr"
   ]
  },
  {
   "cell_type": "code",
   "execution_count": 23,
   "metadata": {},
   "outputs": [],
   "source": [
    "train['Remodeled'] = (train['YearBuilt']==train['YearRemodAdd']).astype(int)\n",
    "train['NewHouse'] = (train['YearBuilt']==train['YrSold']).astype(int)"
   ]
  },
  {
   "cell_type": "code",
   "execution_count": 24,
   "metadata": {},
   "outputs": [],
   "source": [
    "# train.loc[train.Alley.isnull(), 'Alley'] = 'None'"
   ]
  },
  {
   "cell_type": "code",
   "execution_count": 25,
   "metadata": {},
   "outputs": [],
   "source": [
    "train['MasVnrType'].fillna(value = 'None', inplace = True)\n",
    "train['MasVnrArea'].replace(np.nan, 0, inplace = True)"
   ]
  },
  {
   "cell_type": "code",
   "execution_count": 26,
   "metadata": {},
   "outputs": [],
   "source": [
    "train['Fence'].fillna('None', inplace = True)"
   ]
  },
  {
   "cell_type": "code",
   "execution_count": 27,
   "metadata": {},
   "outputs": [],
   "source": [
    "train['FireplaceQu'].fillna('None', inplace = True)"
   ]
  },
  {
   "cell_type": "code",
   "execution_count": 28,
   "metadata": {},
   "outputs": [],
   "source": [
    "###### Garage columns\n",
    "### Seems like there are 81 houses with no garage...\n",
    "\n",
    "train['GarageType'].fillna('None', inplace = True)\n",
    "train['GarageCond'].fillna('None', inplace = True)\n",
    "train['GarageFinish'].fillna('None', inplace = True)\n",
    "train['GarageQual'].fillna('None', inplace = True)\n",
    "\n",
    "# Use ZERO for this column\n",
    "train['GarageYrBlt'].fillna(train['GarageYrBlt'].median(), inplace = True)"
   ]
  },
  {
   "cell_type": "code",
   "execution_count": 29,
   "metadata": {},
   "outputs": [],
   "source": [
    "### basement crap\n",
    "train['BsmtCond'].fillna('None', inplace = True)\n",
    "train['BsmtQual'].fillna('None', inplace = True)\n",
    "train['BsmtExposure'].fillna('None', inplace = True)\n",
    "train['BsmtFinType2'].fillna('None', inplace = True)\n",
    "train['BsmtFinType1'].fillna('None', inplace = True)"
   ]
  },
  {
   "cell_type": "code",
   "execution_count": 30,
   "metadata": {},
   "outputs": [],
   "source": [
    "## use mode for the 1 missing electrical value \n",
    "train['Electrical'].fillna((train['Electrical'].value_counts().index[0]), inplace = True)"
   ]
  },
  {
   "cell_type": "code",
   "execution_count": 31,
   "metadata": {},
   "outputs": [],
   "source": [
    "# use median for lot frontage\n",
    "train['LotFrontage'].fillna((train['LotFrontage'].median()), inplace=True)"
   ]
  },
  {
   "cell_type": "code",
   "execution_count": 32,
   "metadata": {},
   "outputs": [
    {
     "data": {
      "text/plain": [
       "NewHouse        0\n",
       "BsmtExposure    0\n",
       "MasVnrType      0\n",
       "MasVnrArea      0\n",
       "ExterQual       0\n",
       "ExterCond       0\n",
       "Foundation      0\n",
       "BsmtQual        0\n",
       "BsmtCond        0\n",
       "BsmtFinType1    0\n",
       "Exterior1st     0\n",
       "BsmtFinSF1      0\n",
       "BsmtFinType2    0\n",
       "BsmtFinSF2      0\n",
       "BsmtUnfSF       0\n",
       "TotalBsmtSF     0\n",
       "Heating         0\n",
       "HeatingQC       0\n",
       "Exterior2nd     0\n",
       "RoofMatl        0\n",
       "Remodeled       0\n",
       "Neighborhood    0\n",
       "MSZoning        0\n",
       "LotFrontage     0\n",
       "LotArea         0\n",
       "LotShape        0\n",
       "LandContour     0\n",
       "LotConfig       0\n",
       "LandSlope       0\n",
       "Condition1      0\n",
       "RoofStyle       0\n",
       "Condition2      0\n",
       "BldgType        0\n",
       "HouseStyle      0\n",
       "dtype: int64"
      ]
     },
     "execution_count": 32,
     "metadata": {},
     "output_type": "execute_result"
    }
   ],
   "source": [
    "train.isnull().sum().sort_values(ascending=False)[:34]"
   ]
  },
  {
   "cell_type": "code",
   "execution_count": 33,
   "metadata": {},
   "outputs": [
    {
     "data": {
      "image/png": "[encoded data removed]",
      "text/plain": [
       "<Figure size 1080x864 with 2 Axes>"
      ]
     },
     "metadata": {
      "needs_background": "light"
     },
     "output_type": "display_data"
    }
   ],
   "source": [
    "corrmat = train.corr()\n",
    "f, ax = plt.subplots(figsize=(15, 12))\n",
    "DWade = sns.heatmap(corrmat, linecolor = 'white', cmap = 'Reds', linewidths = 3)"
   ]
  },
  {
   "cell_type": "code",
   "execution_count": 34,
   "metadata": {},
   "outputs": [],
   "source": [
    "# Encode some categorical features as ordered numbers when there is information in the order\n",
    "# train = train.replace({\n",
    "#                         \"FireplaceQu\" : {\"No\" : 0, \"Po\" : 1, \"Fa\" : 2, \"TA\" : 3, \"Gd\" : 4, \"Ex\" : 5},\n",
    "#                         \"PavedDrive\" : {\"N\" : 0, \"P\" : 1, \"Y\" : 2}\n",
    "\n",
    "#                        })\n",
    "                     \n",
    "\n",
    "# #Changing some of the columns to ordinal values\n",
    "\n",
    "## Basement cols\n",
    "# Basement Condition\n",
    "mapping4 = {\"None\" : 0, \"Po\" : 1, \"Fa\" : 2, \"TA\" : 3, \"Gd\" : 4, \"Ex\" : 5}\n",
    "train.replace({'BsmtCond': mapping4}, inplace = True)\n",
    "# Basement Exposure\n",
    "mapping5 = {\"No\" : 0,'None':0, \"Mn\" : 1, \"Av\": 2, \"Gd\" : 3}\n",
    "train.replace({'BsmtExposure': mapping5}, inplace = True)\n",
    "# Basement Qual\n",
    "mapping6 = {\"None\" : 0, \"Po\" : 1, \"Fa\" : 2, \"TA\": 3, \"Gd\" : 4, \"Ex\" : 5}\n",
    "train.replace({'BsmtQual':mapping6}, inplace = True)\n",
    "# Basement Fin type 1\n",
    "mapping7 = {\"None\": 0, \"Unf\" : 1, \"LwQ\": 2, \"Rec\" : 3, \"BLQ\" : 4, \"ALQ\" : 5, \"GLQ\" : 6}\n",
    "train.replace({'BsmtFinType1':mapping7}, inplace = True)\n",
    "# Basement Fin type 2\n",
    "mapping8 = {\"None\": 0, \"Unf\" : 1, \"LwQ\": 2, \"Rec\" : 3, \"BLQ\" : 4, \"ALQ\" : 5, \"GLQ\" : 6}\n",
    "train.replace({'BsmtFinType2':mapping8}, inplace = True)\n",
    "\n",
    "# Heating QC (quality)\n",
    "mapping9 = {\"Po\" : 1, \"Fa\" : 2, \"TA\" : 3, \"Gd\" : 4, \"Ex\" : 5}\n",
    "train.replace({'HeatingQC':mapping9},inplace = True)\n",
    "\n",
    "## Garage cols\n",
    "# garage cond\n",
    "mapping10 = {\"None\" : 0, \"Po\" : 1, \"Fa\" : 2, \"TA\" : 3, \"Gd\" : 4, \"Ex\" : 5}\n",
    "train.replace({'GarageCond': mapping10}, inplace = True)\n",
    "# garage qual\n",
    "mapping11 = {\"None\" : 0, \"Po\" : 1, \"Fa\" : 2, \"TA\" : 3, \"Gd\" : 4, \"Ex\" : 5}\n",
    "train.replace({'GarageQual': mapping11}, inplace = True)\n",
    "\n",
    "### home functionality\n",
    "mapping12 = {\"Sal\" : 1, \"Sev\" : 2, \"Maj2\" : 3, \"Maj1\" : 4, \"Mod\": 5, \n",
    "                                       \"Min2\" : 6, \"Min1\" : 7, \"Typ\" : 8}\n",
    "train.replace({'Functional': mapping12}, inplace = True)\n",
    "\n",
    "## exterior\n",
    "# exterior condition\n",
    "mapping13 = {\"Po\" : 1, \"Fa\" : 2, \"TA\": 3, \"Gd\": 4, \"Ex\" : 5}\n",
    "train.replace({'ExterCond': mapping13}, inplace = True)\n",
    "# exterior quality\n",
    "mapping14 = {\"Po\" : 1, \"Fa\" : 2, \"TA\": 3, \"Gd\": 4, \"Ex\" : 5}\n",
    "train.replace({'ExterQual':mapping14}, inplace = True)\n",
    "\n",
    "# kitchen quality\n",
    "mapping15 = {\"Po\" : 1, \"Fa\" : 2, \"TA\" : 3, \"Gd\" : 4, \"Ex\" : 5}\n",
    "train.replace({\"KitchenQual\": mapping15}, inplace = True)\n",
    "\n",
    "# fireplace quality\n",
    "mapping16 = {\"None\" : 0, \"Po\" : 1, \"Fa\" : 2, \"TA\" : 3, \"Gd\" : 4, \"Ex\" : 5}\n",
    "train.replace({'FireplaceQu': mapping16}, inplace = True)"
   ]
  },
  {
   "cell_type": "code",
   "execution_count": 35,
   "metadata": {},
   "outputs": [
    {
     "data": {
      "text/plain": [
       "0    690\n",
       "4    378\n",
       "3    312\n",
       "2     33\n",
       "5     23\n",
       "1     20\n",
       "Name: FireplaceQu, dtype: int64"
      ]
     },
     "execution_count": 35,
     "metadata": {},
     "output_type": "execute_result"
    }
   ],
   "source": [
    "train['FireplaceQu'].value_counts()"
   ]
  },
  {
   "cell_type": "code",
   "execution_count": 36,
   "metadata": {},
   "outputs": [],
   "source": [
    "# Feature Engineering\n",
    "# add ordinal basement columns\n",
    "train['CombinedBsmt'] = train['BsmtQual'] + train['BsmtCond'] + train['BsmtExposure'] + train['BsmtFinType1']+train['BsmtFinType2']\n"
   ]
  },
  {
   "cell_type": "code",
   "execution_count": 37,
   "metadata": {},
   "outputs": [
    {
     "data": {
      "text/plain": [
       "116     3\n",
       "130     3\n",
       "244     4\n",
       "1059    3\n",
       "420     3\n",
       "Name: ExterQual, dtype: int64"
      ]
     },
     "execution_count": 37,
     "metadata": {},
     "output_type": "execute_result"
    }
   ],
   "source": [
    "train['ExterQual'].sample(5)"
   ]
  },
  {
   "cell_type": "code",
   "execution_count": 38,
   "metadata": {},
   "outputs": [
    {
     "data": {
      "text/plain": [
       "PConc     643\n",
       "CBlock    634\n",
       "BrkTil    146\n",
       "Slab       24\n",
       "Stone       6\n",
       "Wood        3\n",
       "Name: Foundation, dtype: int64"
      ]
     },
     "execution_count": 38,
     "metadata": {},
     "output_type": "execute_result"
    }
   ],
   "source": [
    "train[\"Foundation\"].value_counts()"
   ]
  },
  {
   "cell_type": "code",
   "execution_count": 39,
   "metadata": {},
   "outputs": [
    {
     "data": {
      "text/html": [
       "<div>\n",
       "<style scoped>\n",
       "    .dataframe tbody tr th:only-of-type {\n",
       "        vertical-align: middle;\n",
       "    }\n",
       "\n",
       "    .dataframe tbody tr th {\n",
       "        vertical-align: top;\n",
       "    }\n",
       "\n",
       "    .dataframe thead th {\n",
       "        text-align: right;\n",
       "    }\n",
       "</style>\n",
       "<table border=\"1\" class=\"dataframe\">\n",
       "  <thead>\n",
       "    <tr style=\"text-align: right;\">\n",
       "      <th></th>\n",
       "      <th>Foundation</th>\n",
       "      <th>YearBuilt</th>\n",
       "    </tr>\n",
       "  </thead>\n",
       "  <tbody>\n",
       "    <tr>\n",
       "      <th>0</th>\n",
       "      <td>BrkTil</td>\n",
       "      <td>1922.0</td>\n",
       "    </tr>\n",
       "    <tr>\n",
       "      <th>1</th>\n",
       "      <td>CBlock</td>\n",
       "      <td>1963.5</td>\n",
       "    </tr>\n",
       "    <tr>\n",
       "      <th>2</th>\n",
       "      <td>PConc</td>\n",
       "      <td>2002.0</td>\n",
       "    </tr>\n",
       "    <tr>\n",
       "      <th>3</th>\n",
       "      <td>Slab</td>\n",
       "      <td>1955.0</td>\n",
       "    </tr>\n",
       "    <tr>\n",
       "      <th>4</th>\n",
       "      <td>Stone</td>\n",
       "      <td>1905.0</td>\n",
       "    </tr>\n",
       "    <tr>\n",
       "      <th>5</th>\n",
       "      <td>Wood</td>\n",
       "      <td>1990.0</td>\n",
       "    </tr>\n",
       "  </tbody>\n",
       "</table>\n",
       "</div>"
      ],
      "text/plain": [
       "  Foundation  YearBuilt\n",
       "0     BrkTil     1922.0\n",
       "1     CBlock     1963.5\n",
       "2      PConc     2002.0\n",
       "3       Slab     1955.0\n",
       "4      Stone     1905.0\n",
       "5       Wood     1990.0"
      ]
     },
     "execution_count": 39,
     "metadata": {},
     "output_type": "execute_result"
    }
   ],
   "source": [
    "train.groupby('Foundation', as_index=False)['YearBuilt'].median()"
   ]
  },
  {
   "cell_type": "code",
   "execution_count": 40,
   "metadata": {},
   "outputs": [
    {
     "data": {
      "text/html": [
       "<div>\n",
       "<style scoped>\n",
       "    .dataframe tbody tr th:only-of-type {\n",
       "        vertical-align: middle;\n",
       "    }\n",
       "\n",
       "    .dataframe tbody tr th {\n",
       "        vertical-align: top;\n",
       "    }\n",
       "\n",
       "    .dataframe thead th {\n",
       "        text-align: right;\n",
       "    }\n",
       "</style>\n",
       "<table border=\"1\" class=\"dataframe\">\n",
       "  <thead>\n",
       "    <tr style=\"text-align: right;\">\n",
       "      <th></th>\n",
       "      <th>Foundation</th>\n",
       "      <th>SalePrice</th>\n",
       "    </tr>\n",
       "  </thead>\n",
       "  <tbody>\n",
       "    <tr>\n",
       "      <th>0</th>\n",
       "      <td>BrkTil</td>\n",
       "      <td>132291.075342</td>\n",
       "    </tr>\n",
       "    <tr>\n",
       "      <th>1</th>\n",
       "      <td>CBlock</td>\n",
       "      <td>149805.714511</td>\n",
       "    </tr>\n",
       "    <tr>\n",
       "      <th>2</th>\n",
       "      <td>PConc</td>\n",
       "      <td>223762.590980</td>\n",
       "    </tr>\n",
       "    <tr>\n",
       "      <th>3</th>\n",
       "      <td>Slab</td>\n",
       "      <td>107365.625000</td>\n",
       "    </tr>\n",
       "    <tr>\n",
       "      <th>4</th>\n",
       "      <td>Stone</td>\n",
       "      <td>165959.166667</td>\n",
       "    </tr>\n",
       "    <tr>\n",
       "      <th>5</th>\n",
       "      <td>Wood</td>\n",
       "      <td>185666.666667</td>\n",
       "    </tr>\n",
       "  </tbody>\n",
       "</table>\n",
       "</div>"
      ],
      "text/plain": [
       "  Foundation      SalePrice\n",
       "0     BrkTil  132291.075342\n",
       "1     CBlock  149805.714511\n",
       "2      PConc  223762.590980\n",
       "3       Slab  107365.625000\n",
       "4      Stone  165959.166667\n",
       "5       Wood  185666.666667"
      ]
     },
     "execution_count": 40,
     "metadata": {},
     "output_type": "execute_result"
    }
   ],
   "source": [
    "train.groupby('Foundation', as_index=False)['SalePrice'].mean()"
   ]
  },
  {
   "cell_type": "code",
   "execution_count": 41,
   "metadata": {},
   "outputs": [],
   "source": [
    "train['TotalBaths'] = train['FullBath']+train['BsmtFullBath']+(.5*train['HalfBath'])+(.5*train['BsmtHalfBath'])\n",
    "train['TotalBaths2'] = (train['TotalBaths']**2)"
   ]
  },
  {
   "cell_type": "code",
   "execution_count": 42,
   "metadata": {},
   "outputs": [
    {
     "data": {
      "text/plain": [
       "2    750\n",
       "1    371\n",
       "3    318\n",
       "4     15\n",
       "6      1\n",
       "0      1\n",
       "Name: FullBathTotal, dtype: int64"
      ]
     },
     "execution_count": 42,
     "metadata": {},
     "output_type": "execute_result"
    }
   ],
   "source": [
    "train['FullBathTotal'] = train['FullBath'] + train['BsmtFullBath']\n",
    "train['FullBathTotal'].value_counts()"
   ]
  },
  {
   "cell_type": "code",
   "execution_count": 43,
   "metadata": {
    "scrolled": true
   },
   "outputs": [],
   "source": [
    "train['HouseAge'] = train['YrSold']-train['YearBuilt']"
   ]
  },
  {
   "cell_type": "code",
   "execution_count": 44,
   "metadata": {},
   "outputs": [],
   "source": [
    "train['RemodalAge'] = train['YrSold']-train['YearRemodAdd']"
   ]
  },
  {
   "cell_type": "code",
   "execution_count": 45,
   "metadata": {},
   "outputs": [
    {
     "data": {
      "text/plain": [
       "array([ 7,  8,  9, 10, 11])"
      ]
     },
     "execution_count": 45,
     "metadata": {},
     "output_type": "execute_result"
    }
   ],
   "source": [
    "np.arange(7,12)"
   ]
  },
  {
   "cell_type": "code",
   "execution_count": 46,
   "metadata": {},
   "outputs": [
    {
     "data": {
      "text/plain": [
       "0       62\n",
       "1      100\n",
       "2       39\n",
       "3       36\n",
       "4       41\n",
       "5       30\n",
       "6       30\n",
       "7       24\n",
       "8       25\n",
       "9       23\n",
       "10      22\n",
       "11      21\n",
       "12      16\n",
       "13      14\n",
       "14      14\n",
       "15      20\n",
       "16      12\n",
       "17      11\n",
       "18       8\n",
       "19       7\n",
       "20       5\n",
       "21       6\n",
       "22       7\n",
       "23       3\n",
       "24       5\n",
       "25       7\n",
       "26       7\n",
       "27       5\n",
       "28       5\n",
       "29      14\n",
       "      ... \n",
       "92       4\n",
       "93       7\n",
       "94       6\n",
       "95       3\n",
       "96       6\n",
       "97       7\n",
       "98       3\n",
       "99       4\n",
       "100      3\n",
       "102      1\n",
       "103      1\n",
       "104      1\n",
       "106      3\n",
       "107      1\n",
       "108      3\n",
       "109      1\n",
       "110      2\n",
       "111      1\n",
       "114      1\n",
       "115      1\n",
       "117      2\n",
       "119      1\n",
       "122      1\n",
       "125      1\n",
       "126      1\n",
       "127      2\n",
       "128      1\n",
       "129      1\n",
       "135      1\n",
       "136      1\n",
       "Name: HouseAge, Length: 122, dtype: int64"
      ]
     },
     "execution_count": 46,
     "metadata": {},
     "output_type": "execute_result"
    }
   ],
   "source": [
    "train['HouseAge'].value_counts().sort_index(ascending=True)"
   ]
  },
  {
   "cell_type": "code",
   "execution_count": 47,
   "metadata": {},
   "outputs": [],
   "source": [
    "# above ground SF plus basement SF\n",
    "train[\"TotalSF\"] = train[\"GrLivArea\"] + train[\"TotalBsmtSF\"]"
   ]
  },
  {
   "cell_type": "code",
   "execution_count": 48,
   "metadata": {
    "scrolled": true
   },
   "outputs": [
    {
     "data": {
      "text/plain": [
       "1358    10\n",
       "1376    78\n",
       "852     66\n",
       "1314    53\n",
       "1277    42\n",
       "Name: HouseAge, dtype: int64"
      ]
     },
     "execution_count": 48,
     "metadata": {},
     "output_type": "execute_result"
    }
   ],
   "source": [
    "train['HouseAge'].sample(5)"
   ]
  },
  {
   "cell_type": "code",
   "execution_count": 49,
   "metadata": {},
   "outputs": [],
   "source": [
    "# Overall quality and overall condition\n",
    "train[\"OverallMult\"] = train[\"OverallQual\"] * train[\"OverallCond\"]\n",
    "train['OverallAdd'] = train['OverallQual'] + train['OverallCond']"
   ]
  },
  {
   "cell_type": "code",
   "execution_count": 50,
   "metadata": {},
   "outputs": [],
   "source": [
    "# Exterior condition and quality\n",
    "train['ExterMult'] = train['ExterCond'] * train['ExterQual']\n",
    "train['ExterAdd'] = train['ExterCond'] + train['ExterQual']\n",
    "train['ExterAdd2'] = (train['ExterAdd']**2)"
   ]
  },
  {
   "cell_type": "code",
   "execution_count": 51,
   "metadata": {},
   "outputs": [],
   "source": [
    "# garage cond and qual\n",
    "train['GarageMult'] = train['GarageCond'] * train['GarageQual']\n",
    "train['GarageAdd'] = train['GarageCond'] + train['GarageQual']\n",
    "train['GarageAdd2'] = (train['GarageAdd']**2)"
   ]
  },
  {
   "cell_type": "code",
   "execution_count": 52,
   "metadata": {},
   "outputs": [],
   "source": [
    "#### assigning value to land slope\n",
    "mapping = {'Gtl': 0, 'Mod': 1, 'Sev': 2}\n",
    "train['LandSlopeVal'] = train.LandSlope.apply(lambda x: mapping[x])"
   ]
  },
  {
   "cell_type": "code",
   "execution_count": 53,
   "metadata": {},
   "outputs": [],
   "source": [
    "### assigning value to lot Shape\n",
    "mapping1 = {'Reg': 0, 'IR1': 1, 'IR3': 1, 'IR2':2}\n",
    "train['LotShapeVal'] = train.LotShape.apply(lambda x: mapping1[x])"
   ]
  },
  {
   "cell_type": "code",
   "execution_count": 54,
   "metadata": {},
   "outputs": [],
   "source": [
    "## assigning value to land contour\n",
    "mapping2 = {'Bnk':0, \"Low\":1, \"Lvl\":1,\"HLS\":2}\n",
    "train['LandContourVal'] = train.LandContour.apply(lambda x:mapping2[x])"
   ]
  },
  {
   "cell_type": "code",
   "execution_count": 55,
   "metadata": {},
   "outputs": [],
   "source": [
    "### assigning value to lot config\n",
    "mapping3 = {'Corner': 0, 'FR2':0, 'Inside':0,'FR3':0, 'CulDSac':1}\n",
    "train['LotConfigVal'] = train.LotConfig.apply(lambda x: mapping3[x])"
   ]
  },
  {
   "cell_type": "code",
   "execution_count": 56,
   "metadata": {},
   "outputs": [],
   "source": [
    "### layer value of overall cond and qual\n",
    "train[\"OverallQualLayer\"] = train.OverallQual.replace({1 : 1, 2 : 1, 3 : 1,\n",
    "                                                       4 : 2, 5 : 2, 6 : 2,\n",
    "                                                       7 : 3, 8 : 3, 9 : 3, 10 : 3})\n",
    "train['OverallCondLayer'] = train.OverallCond.replace({1 : 1, 2 : 1, 3 : 1,\n",
    "                                                       4 : 2, 5 : 2, 6 : 2,\n",
    "                                                       7 : 3, 8 : 3, 9 : 3, 10 : 3})"
   ]
  },
  {
   "cell_type": "code",
   "execution_count": 57,
   "metadata": {},
   "outputs": [],
   "source": [
    "#  adding new kitchen columns\n",
    "train[\"KitchenMult\"] = train[\"KitchenAbvGr\"] * train[\"KitchenQual\"]\n",
    "train[\"KitchenAdd\"] = train[\"KitchenAbvGr\"] + train[\"KitchenQual\"]\n",
    "train[\"KitchenAdd2\"] = (train[\"KitchenAdd\"] ** 2)"
   ]
  },
  {
   "cell_type": "code",
   "execution_count": 58,
   "metadata": {},
   "outputs": [],
   "source": [
    "abc = train.groupby('YrSold')['SalePrice'].agg('median').to_dict()\n",
    "train['MedianPriceByYear'] = train.YrSold.apply(lambda x : abc[x])"
   ]
  },
  {
   "cell_type": "code",
   "execution_count": 59,
   "metadata": {},
   "outputs": [
    {
     "data": {
      "text/html": [
       "<div>\n",
       "<style scoped>\n",
       "    .dataframe tbody tr th:only-of-type {\n",
       "        vertical-align: middle;\n",
       "    }\n",
       "\n",
       "    .dataframe tbody tr th {\n",
       "        vertical-align: top;\n",
       "    }\n",
       "\n",
       "    .dataframe thead th {\n",
       "        text-align: right;\n",
       "    }\n",
       "</style>\n",
       "<table border=\"1\" class=\"dataframe\">\n",
       "  <thead>\n",
       "    <tr style=\"text-align: right;\">\n",
       "      <th></th>\n",
       "      <th>YrSold</th>\n",
       "      <th>MedianPriceByYear</th>\n",
       "    </tr>\n",
       "  </thead>\n",
       "  <tbody>\n",
       "    <tr>\n",
       "      <th>46</th>\n",
       "      <td>2009</td>\n",
       "      <td>162000</td>\n",
       "    </tr>\n",
       "    <tr>\n",
       "      <th>866</th>\n",
       "      <td>2007</td>\n",
       "      <td>165000</td>\n",
       "    </tr>\n",
       "    <tr>\n",
       "      <th>998</th>\n",
       "      <td>2006</td>\n",
       "      <td>163995</td>\n",
       "    </tr>\n",
       "    <tr>\n",
       "      <th>22</th>\n",
       "      <td>2008</td>\n",
       "      <td>165000</td>\n",
       "    </tr>\n",
       "    <tr>\n",
       "      <th>617</th>\n",
       "      <td>2008</td>\n",
       "      <td>165000</td>\n",
       "    </tr>\n",
       "  </tbody>\n",
       "</table>\n",
       "</div>"
      ],
      "text/plain": [
       "     YrSold  MedianPriceByYear\n",
       "46     2009             162000\n",
       "866    2007             165000\n",
       "998    2006             163995\n",
       "22     2008             165000\n",
       "617    2008             165000"
      ]
     },
     "execution_count": 59,
     "metadata": {},
     "output_type": "execute_result"
    }
   ],
   "source": [
    "train.loc[:,['YrSold', 'MedianPriceByYear']].sample(5)"
   ]
  },
  {
   "cell_type": "code",
   "execution_count": 60,
   "metadata": {},
   "outputs": [
    {
     "data": {
      "text/plain": [
       "2009    338\n",
       "2007    326\n",
       "2006    314\n",
       "2008    303\n",
       "2010    175\n",
       "Name: YrSold, dtype: int64"
      ]
     },
     "execution_count": 60,
     "metadata": {},
     "output_type": "execute_result"
    }
   ],
   "source": [
    "train['YrSold'].value_counts()"
   ]
  },
  {
   "cell_type": "code",
   "execution_count": 61,
   "metadata": {},
   "outputs": [],
   "source": [
    "#asbestos\n",
    "#create asbestos dummy variable\n",
    "train[\"asbestos\"] = 0\n",
    "test_asbestos = \"asbestos\"\n",
    "train.loc[train['Exterior1st'].str.contains('AsbShng') | train['Exterior2nd'].str.contains('AsbShng'), 'asbestos'] = 1"
   ]
  },
  {
   "cell_type": "code",
   "execution_count": 62,
   "metadata": {},
   "outputs": [
    {
     "name": "stdout",
     "output_type": "stream",
     "text": [
      "Numerical features : 75\n",
      "Categorical features : 28\n"
     ]
    }
   ],
   "source": [
    "# numerical_features=train.select_dtypes(include=['int64','float64'])\n",
    "# categorical_features=train.select_dtypes(include=['object'])\n",
    "categorical_features = train.select_dtypes(include = [\"object\"]).columns\n",
    "numerical_features = train.select_dtypes(exclude = [\"object\"]).columns\n",
    "numerical_features = numerical_features.drop(\"SalePrice\")\n",
    "print(\"Numerical features : \" + str(len(numerical_features)))\n",
    "print(\"Categorical features : \" + str(len(categorical_features)))\n",
    "train_num = train[numerical_features]\n",
    "train_cat = train[categorical_features]"
   ]
  },
  {
   "cell_type": "code",
   "execution_count": 78,
   "metadata": {
    "scrolled": true
   },
   "outputs": [
    {
     "name": "stdout",
     "output_type": "stream",
     "text": [
      "35 skewed numerical features to log transform\n"
     ]
    }
   ],
   "source": [
    "### handling skewed numerical columns\n",
    "\n",
    "# log skewness with an absolute value > 0.5\n",
    "skewness = train_num.apply(lambda x: skew(x))\n",
    "skewness = skewness[abs(skewness) > 0.5]\n",
    "print(str(skewness.shape[0]) + \" skewed numerical features to log transform\")\n",
    "skewed_features = skewness.index\n",
    "train_num[skewed_features] = np.log1p(train_num[skewed_features])\n",
    "\n",
    "# for i in skewed_rows:\n",
    "#     num_feats[i]= boxcox1p(num_feats[i], boxcox_normmax(num_feats[i]+1))"
   ]
  },
  {
   "cell_type": "code",
   "execution_count": 79,
   "metadata": {},
   "outputs": [],
   "source": [
    "# Create dummy features for categorical values via one-hot encoding\n",
    "train_cat = pd.get_dummies(train_cat)"
   ]
  },
  {
   "cell_type": "code",
   "execution_count": 80,
   "metadata": {
    "scrolled": true
   },
   "outputs": [
    {
     "name": "stdout",
     "output_type": "stream",
     "text": [
      "New number of features : 279\n"
     ]
    }
   ],
   "source": [
    "# Join categorical and numerical features\n",
    "#LOSE THE SALE PRICE VALUE?!?!?!\n",
    "train = pd.concat([train_num, train_cat], axis = 1)\n",
    "print(\"New number of features : \" + str(train.shape[1]))\n"
   ]
  },
  {
   "cell_type": "code",
   "execution_count": null,
   "metadata": {},
   "outputs": [],
   "source": []
  },
  {
   "cell_type": "code",
   "execution_count": 81,
   "metadata": {},
   "outputs": [],
   "source": [
    "# melted2 = pd.melt(train, value_vars=num_feats)\n",
    "# sns.set_palette(\"deep\")\n",
    "# melt2 = sns.FacetGrid(melted2, col=\"variable\", palette='Set1', col_wrap=2, sharex=False, sharey=False)\n",
    "# melt2 = melt2.map(sns.distplot, \"value\")"
   ]
  },
  {
   "cell_type": "code",
   "execution_count": 13,
   "metadata": {},
   "outputs": [],
   "source": [
    "#data split\n",
    "from sklearn.model_selection import train_test_split\n",
    "y = train1[[\"SalePrice\"]]\n",
    "\n",
    "X=train\n",
    "X_train, X_test, y_train, y_test = train_test_split(X, y, test_size=0.30, random_state=42)"
   ]
  },
  {
   "cell_type": "code",
   "execution_count": 9,
   "metadata": {},
   "outputs": [],
   "source": [
    "##LASSO and RIDGE\n",
    "from sklearn.linear_model import LinearRegression, Ridge, Lasso, ElasticNet\n",
    "from sklearn import datasets"
   ]
  },
  {
   "cell_type": "code",
   "execution_count": 15,
   "metadata": {},
   "outputs": [],
   "source": [
    "ridge = Ridge()"
   ]
  },
  {
   "cell_type": "code",
   "execution_count": 11,
   "metadata": {},
   "outputs": [
    {
     "data": {
      "text/plain": [
       "Ridge(alpha=1.0, copy_X=True, fit_intercept=True, max_iter=None,\n",
       "   normalize=False, random_state=None, solver='auto', tol=0.001)"
      ]
     },
     "execution_count": 11,
     "metadata": {},
     "output_type": "execute_result"
    }
   ],
   "source": [
    "ridge"
   ]
  },
  {
   "cell_type": "code",
   "execution_count": 138,
   "metadata": {},
   "outputs": [
    {
     "name": "stdout",
     "output_type": "stream",
     "text": [
      "1019\n",
      "1019\n",
      "      MSSubClass  LotFrontage    LotArea  OverallQual  OverallCond  YearBuilt  \\\n",
      "464     3.044522     1.631370   9.039671            5     1.791759   2.150639   \n",
      "471     4.110874     1.710658   9.388738            7     1.945910   2.150580   \n",
      "1332    3.044522     1.652403   9.091332            4     1.945910   2.148259   \n",
      "435     4.110874     1.565317   9.275004            7     1.945910   2.151693   \n",
      "1209    3.044522     1.696413   9.228475            8     1.791759   2.152273   \n",
      "1008    3.044522     1.565317   9.402530            7     1.791759   2.152157   \n",
      "595     3.044522     1.657941   9.332823            8     1.791759   2.152215   \n",
      "670     4.110874     1.643721   9.063463            6     1.791759   2.152215   \n",
      "158     4.110874     1.725463   9.437715            7     1.791759   2.152157   \n",
      "966     3.931826     1.770740   9.169623            5     2.079442   2.148380   \n",
      "1258    4.394449     1.628131   9.168268            7     1.791759   2.152215   \n",
      "968     3.931826     1.595709   8.687105            3     1.945910   2.146561   \n",
      "896     3.433987     1.595709   9.078636            4     1.945910   2.148139   \n",
      "764     4.795791     1.489299   9.164296            8     1.791759   2.151634   \n",
      "1261    3.044522     1.685370   9.169623            5     1.945910   2.149337   \n",
      "714     4.110874     1.657941   9.511777            6     2.197225   2.150521   \n",
      "798     4.110874     1.732356   9.511851            9     1.791759   2.152389   \n",
      "819     4.795791     1.570003   8.759669            7     1.791759   2.152447   \n",
      "1000    3.044522     1.671001   9.230829            3     1.386294   2.149098   \n",
      "1011    4.510860     1.673489   9.192787            5     1.791759   2.149872   \n",
      "1206    3.044522     1.657941   9.093919            4     1.609438   2.149931   \n",
      "939     4.262680     1.657941  10.089594            7     2.079442   2.148380   \n",
      "438     3.433987     1.550446   8.361942            5     1.945910   2.146744   \n",
      "1452    5.198497     1.522467   8.209580            5     1.791759   2.152215   \n",
      "96      3.044522     1.680725   9.236495            7     1.791759   2.151867   \n",
      "1072    3.931826     1.595709   8.934060            5     1.386294   2.148859   \n",
      "1180    4.110874     1.657941   9.321076            7     1.791759   2.151343   \n",
      "1356    3.044522     1.657941   9.156729            5     1.791759   2.149931   \n",
      "1003    4.510860     1.657941   9.350189            5     1.945910   2.150521   \n",
      "410     3.044522     1.655196   9.166597            5     1.386294   2.149456   \n",
      "...          ...          ...        ...          ...          ...        ...   \n",
      "749     3.931826     1.595709   9.036701            4     1.386294   2.148680   \n",
      "252     4.110874     1.646667   9.032051            6     1.791759   2.152157   \n",
      "21      3.828641     1.621454   8.915969            7     2.079442   2.147777   \n",
      "1341    3.044522     1.649561   9.524859            6     1.791759   2.152099   \n",
      "459     3.931826     1.657941   8.855949            5     1.609438   2.148979   \n",
      "1187    3.044522     1.704713   9.430439            8     1.791759   2.151576   \n",
      "276     3.044522     1.769435   9.126633            7     1.791759   2.152099   \n",
      "957     3.044522     1.660640   8.912069            5     1.791759   2.149694   \n",
      "1218    3.931826     1.603479   8.738896            4     1.791759   2.148800   \n",
      "385     4.795791     1.565317   8.065579            8     1.791759   2.152157   \n",
      "807     4.262680     1.787874   9.970445            5     1.945910   2.147353   \n",
      "1441    4.795791     1.657941   8.395477            6     1.791759   2.152157   \n",
      "343     4.795791     1.640720   9.088173            9     1.791759   2.152215   \n",
      "771     3.044522     1.652403   9.091332            4     1.791759   2.149039   \n",
      "1336    4.510860     1.700619   9.132054            5     1.791759   2.150345   \n",
      "130     4.110874     1.702680   9.561068            7     1.945910   2.149931   \n",
      "873     3.713572     1.631370   9.404673            5     2.079442   2.148919   \n",
      "1125    3.044522     1.631370   9.252921            4     1.791759   2.149277   \n",
      "1400    3.931826     1.595709   8.699681            6     2.079442   2.147716   \n",
      "87      5.081404     1.550446   8.281977            6     1.791759   2.152447   \n",
      "330     4.510860     1.657941   9.270965            5     1.609438   2.149812   \n",
      "1241    3.044522     1.692090   9.195227            7     1.945910   2.152331   \n",
      "466     3.044522     1.696413   9.271341            7     1.791759   2.150167   \n",
      "121     3.931826     1.595709   8.709630            4     1.791759   2.148319   \n",
      "1046    4.110874     1.696413   9.683900            9     1.791759   2.152215   \n",
      "1097    4.795791     1.657941   8.215277            8     1.791759   2.151109   \n",
      "1132    4.262680     1.706721   9.200391            6     1.609438   2.144709   \n",
      "1297    5.198497     1.522467   8.209580            6     1.791759   2.152215   \n",
      "862     3.044522     1.687642   9.177094            6     1.791759   2.150991   \n",
      "1128    4.110874     1.628131   9.375601            7     1.791759   2.152157   \n",
      "\n",
      "      YearRemodAdd  MasVnrArea  ExterQual  ExterCond  ...  CombinedBsmt_12  \\\n",
      "464           1978    1.778333   0.869742   1.386294  ...                0   \n",
      "471           1977    0.000000   0.869742   1.386294  ...                0   \n",
      "1332          1958    0.000000   0.869742   1.386294  ...                0   \n",
      "435           1996    0.000000   0.959135   1.386294  ...                0   \n",
      "1209          2006    1.951982   0.959135   1.386294  ...                0   \n",
      "1008          2005    1.738947   0.959135   1.386294  ...                0   \n",
      "595           2006    1.868175   0.959135   1.386294  ...                0   \n",
      "670           2005    0.000000   0.959135   1.386294  ...                0   \n",
      "158           2005    0.000000   0.959135   1.386294  ...                0   \n",
      "966           1950    0.000000   0.959135   1.609438  ...                0   \n",
      "1258          2005    1.826078   0.959135   1.386294  ...                0   \n",
      "968           1950    0.000000   0.869742   1.386294  ...                0   \n",
      "896           1950    0.000000   0.869742   1.386294  ...                1   \n",
      "764           1996    0.000000   0.959135   1.609438  ...                0   \n",
      "1261          1956    0.000000   0.869742   1.386294  ...                0   \n",
      "714           2005    1.897602   0.959135   1.386294  ...                0   \n",
      "798           2009    2.048737   1.026672   1.386294  ...                0   \n",
      "819           2010    1.768118   0.959135   1.386294  ...                0   \n",
      "1000          1952    0.000000   0.869742   1.386294  ...                0   \n",
      "1011          1965    0.000000   0.869742   1.386294  ...                0   \n",
      "1206          1966    0.000000   0.869742   1.386294  ...                0   \n",
      "939           1950    0.000000   0.869742   1.609438  ...                0   \n",
      "438           2002    0.000000   0.869742   1.386294  ...                0   \n",
      "1452          2005    1.685370   0.869742   1.386294  ...                0   \n",
      "96            1999    1.826955   0.959135   1.386294  ...                0   \n",
      "1072          1950    0.000000   0.869742   1.386294  ...                0   \n",
      "1180          1991    0.000000   0.869742   1.386294  ...                0   \n",
      "1356          1966    1.646667   0.869742   1.386294  ...                0   \n",
      "1003          1976    1.809263   0.869742   1.386294  ...                0   \n",
      "410           1958    0.000000   0.869742   1.098612  ...                0   \n",
      "...            ...         ...        ...        ...  ...              ...   \n",
      "749           1950    0.000000   0.869742   1.386294  ...                0   \n",
      "252           2004    0.000000   0.959135   1.386294  ...                0   \n",
      "21            1950    0.000000   0.869742   1.386294  ...                0   \n",
      "1341          2004    0.000000   0.869742   1.386294  ...                0   \n",
      "459           1950    1.806253   0.869742   1.386294  ...                0   \n",
      "1187          1995    0.000000   0.959135   1.386294  ...                0   \n",
      "276           2003    0.000000   0.959135   1.386294  ...                0   \n",
      "957           1962    0.000000   0.869742   1.386294  ...                0   \n",
      "1218          1950    0.000000   0.869742   1.386294  ...                0   \n",
      "385           2005    1.343703   0.959135   1.386294  ...                0   \n",
      "807           2004    0.000000   0.869742   1.386294  ...                0   \n",
      "1441          2004    1.791295   0.959135   1.386294  ...                0   \n",
      "343           2005    2.004835   1.026672   1.386294  ...                0   \n",
      "771           1951    0.000000   0.869742   1.386294  ...                0   \n",
      "1336          1973    1.992906   0.869742   1.386294  ...                0   \n",
      "130           1966    1.907551   0.869742   1.386294  ...                0   \n",
      "873           1950    0.000000   0.959135   1.386294  ...                0   \n",
      "1125          1955    0.000000   0.869742   1.386294  ...                0   \n",
      "1400          1950    0.000000   0.869742   1.386294  ...                0   \n",
      "87            2009    1.675938   0.959135   1.386294  ...                0   \n",
      "330           1964    1.694266   0.869742   1.386294  ...                0   \n",
      "1241          2007    0.000000   0.959135   1.386294  ...                0   \n",
      "466           1970    0.000000   0.869742   1.609438  ...                0   \n",
      "121           1950    0.000000   0.869742   1.386294  ...                0   \n",
      "1046          2006    1.847247   0.959135   1.386294  ...                0   \n",
      "1097          1986    0.000000   0.959135   1.386294  ...                0   \n",
      "1132          1950    0.000000   0.869742   1.386294  ...                0   \n",
      "1297          2006    1.689882   0.869742   1.386294  ...                0   \n",
      "862           1985    0.000000   0.869742   1.386294  ...                0   \n",
      "1128          2005    0.000000   0.959135   1.386294  ...                0   \n",
      "\n",
      "      CombinedBsmt_13  CombinedBsmt_14  CombinedBsmt_15  CombinedBsmt_16  \\\n",
      "464                 0                0                0                0   \n",
      "471                 0                0                0                0   \n",
      "1332                1                0                0                0   \n",
      "435                 0                0                0                0   \n",
      "1209                0                0                0                1   \n",
      "1008                0                0                0                0   \n",
      "595                 0                0                0                0   \n",
      "670                 0                1                0                0   \n",
      "158                 0                1                0                0   \n",
      "966                 0                0                0                0   \n",
      "1258                0                0                0                0   \n",
      "968                 0                0                0                0   \n",
      "896                 0                0                0                0   \n",
      "764                 0                0                0                0   \n",
      "1261                0                0                0                0   \n",
      "714                 1                0                0                0   \n",
      "798                 0                0                0                0   \n",
      "819                 0                0                1                0   \n",
      "1000                0                0                0                0   \n",
      "1011                0                0                0                0   \n",
      "1206                0                0                0                0   \n",
      "939                 0                0                0                0   \n",
      "438                 0                0                0                0   \n",
      "1452                0                0                0                0   \n",
      "96                  0                0                1                0   \n",
      "1072                0                0                0                0   \n",
      "1180                0                0                0                0   \n",
      "1356                0                0                0                0   \n",
      "1003                0                0                0                0   \n",
      "410                 0                0                0                0   \n",
      "...               ...              ...              ...              ...   \n",
      "749                 0                0                0                0   \n",
      "252                 0                0                0                0   \n",
      "21                  0                0                0                0   \n",
      "1341                0                1                0                0   \n",
      "459                 0                0                0                0   \n",
      "1187                0                1                0                0   \n",
      "276                 0                0                0                0   \n",
      "957                 0                0                0                0   \n",
      "1218                0                0                0                0   \n",
      "385                 0                1                0                0   \n",
      "807                 0                0                0                1   \n",
      "1441                0                0                0                1   \n",
      "343                 0                0                1                0   \n",
      "771                 0                0                0                0   \n",
      "1336                0                0                0                0   \n",
      "130                 0                0                0                0   \n",
      "873                 0                0                0                0   \n",
      "1125                0                0                0                0   \n",
      "1400                0                0                0                0   \n",
      "87                  0                0                0                0   \n",
      "330                 0                0                1                0   \n",
      "1241                0                0                0                0   \n",
      "466                 0                0                0                0   \n",
      "121                 0                0                0                0   \n",
      "1046                0                0                0                0   \n",
      "1097                0                0                0                0   \n",
      "1132                0                0                0                0   \n",
      "1297                0                0                0                0   \n",
      "862                 0                1                0                0   \n",
      "1128                0                0                0                0   \n",
      "\n",
      "      CombinedBsmt_17  CombinedBsmt_18  CombinedBsmt_19  CombinedBsmt_20  \\\n",
      "464                 0                0                0                0   \n",
      "471                 0                0                0                0   \n",
      "1332                0                0                0                0   \n",
      "435                 0                0                0                1   \n",
      "1209                0                0                0                0   \n",
      "1008                0                0                0                0   \n",
      "595                 1                0                0                0   \n",
      "670                 0                0                0                0   \n",
      "158                 0                0                0                0   \n",
      "966                 0                0                0                0   \n",
      "1258                1                0                0                0   \n",
      "968                 0                0                0                0   \n",
      "896                 0                0                0                0   \n",
      "764                 0                1                0                0   \n",
      "1261                0                0                0                0   \n",
      "714                 0                0                0                0   \n",
      "798                 0                0                0                0   \n",
      "819                 0                0                0                0   \n",
      "1000                0                0                0                0   \n",
      "1011                0                0                0                0   \n",
      "1206                0                0                0                0   \n",
      "939                 0                0                0                0   \n",
      "438                 0                0                0                0   \n",
      "1452                1                0                0                0   \n",
      "96                  0                0                0                0   \n",
      "1072                0                0                0                0   \n",
      "1180                0                0                0                0   \n",
      "1356                0                0                0                0   \n",
      "1003                0                0                0                0   \n",
      "410                 0                0                0                0   \n",
      "...               ...              ...              ...              ...   \n",
      "749                 0                0                0                0   \n",
      "252                 0                0                0                0   \n",
      "21                  0                0                0                0   \n",
      "1341                0                0                0                0   \n",
      "459                 0                0                0                0   \n",
      "1187                0                0                0                0   \n",
      "276                 0                0                0                0   \n",
      "957                 0                0                0                0   \n",
      "1218                0                0                0                0   \n",
      "385                 0                0                0                0   \n",
      "807                 0                0                0                0   \n",
      "1441                0                0                0                0   \n",
      "343                 0                0                0                0   \n",
      "771                 0                0                0                0   \n",
      "1336                0                0                0                0   \n",
      "130                 0                0                0                0   \n",
      "873                 0                0                0                0   \n",
      "1125                0                0                0                0   \n",
      "1400                0                0                0                0   \n",
      "87                  0                0                0                0   \n",
      "330                 0                0                0                0   \n",
      "1241                0                0                0                0   \n",
      "466                 1                0                0                0   \n",
      "121                 0                0                0                0   \n",
      "1046                1                0                0                0   \n",
      "1097                0                0                0                0   \n",
      "1132                0                0                0                0   \n",
      "1297                1                0                0                0   \n",
      "862                 0                0                0                0   \n",
      "1128                0                0                0                0   \n",
      "\n",
      "      CombinedBsmt_22  \n",
      "464                 0  \n",
      "471                 0  \n",
      "1332                0  \n",
      "435                 0  \n",
      "1209                0  \n",
      "1008                0  \n",
      "595                 0  \n",
      "670                 0  \n",
      "158                 0  \n",
      "966                 0  \n",
      "1258                0  \n",
      "968                 0  \n",
      "896                 0  \n",
      "764                 0  \n",
      "1261                0  \n",
      "714                 0  \n",
      "798                 0  \n",
      "819                 0  \n",
      "1000                0  \n",
      "1011                0  \n",
      "1206                0  \n",
      "939                 0  \n",
      "438                 0  \n",
      "1452                0  \n",
      "96                  0  \n",
      "1072                0  \n",
      "1180                0  \n",
      "1356                0  \n",
      "1003                0  \n",
      "410                 0  \n",
      "...               ...  \n",
      "749                 0  \n",
      "252                 0  \n",
      "21                  0  \n",
      "1341                0  \n",
      "459                 0  \n",
      "1187                0  \n",
      "276                 0  \n",
      "957                 0  \n",
      "1218                0  \n",
      "385                 0  \n",
      "807                 0  \n",
      "1441                0  \n",
      "343                 0  \n",
      "771                 0  \n",
      "1336                0  \n",
      "130                 0  \n",
      "873                 0  \n",
      "1125                0  \n",
      "1400                0  \n",
      "87                  0  \n",
      "330                 0  \n",
      "1241                0  \n",
      "466                 0  \n",
      "121                 0  \n",
      "1046                0  \n",
      "1097                0  \n",
      "1132                0  \n",
      "1297                0  \n",
      "862                 0  \n",
      "1128                0  \n",
      "\n",
      "[1019 rows x 279 columns]\n"
     ]
    }
   ],
   "source": [
    "print(len(X_train))\n",
    "print(len(y_train))\n",
    "print(X_train)"
   ]
  },
  {
   "cell_type": "code",
   "execution_count": 16,
   "metadata": {},
   "outputs": [
    {
     "ename": "AttributeError",
     "evalue": "'Ridge' object has no attribute 'coef_'",
     "output_type": "error",
     "traceback": [
      "\u001b[1;31m---------------------------------------------------------------------------\u001b[0m",
      "\u001b[1;31mAttributeError\u001b[0m                            Traceback (most recent call last)",
      "\u001b[1;32m<ipython-input-16-18ed19c17d0c>\u001b[0m in \u001b[0;36m<module>\u001b[1;34m\u001b[0m\n\u001b[1;32m----> 1\u001b[1;33m \u001b[0mcoef\u001b[0m \u001b[1;33m=\u001b[0m \u001b[1;33m[\u001b[0m\u001b[0mridge\u001b[0m\u001b[1;33m.\u001b[0m\u001b[0mcoef_\u001b[0m\u001b[1;33m[\u001b[0m\u001b[1;36m0\u001b[0m\u001b[1;33m]\u001b[0m\u001b[1;33m[\u001b[0m\u001b[0mi\u001b[0m\u001b[1;33m]\u001b[0m \u001b[1;32mfor\u001b[0m \u001b[0mi\u001b[0m \u001b[1;32min\u001b[0m \u001b[0mrange\u001b[0m\u001b[1;33m(\u001b[0m\u001b[0mlen\u001b[0m\u001b[1;33m(\u001b[0m\u001b[0mridge\u001b[0m\u001b[1;33m.\u001b[0m\u001b[0mcoef_\u001b[0m\u001b[1;33m[\u001b[0m\u001b[1;36m0\u001b[0m\u001b[1;33m]\u001b[0m \u001b[1;33m+\u001b[0m \u001b[1;36m1\u001b[0m\u001b[1;33m)\u001b[0m\u001b[1;33m)\u001b[0m\u001b[1;33m]\u001b[0m\u001b[1;33m\u001b[0m\u001b[1;33m\u001b[0m\u001b[0m\n\u001b[0m\u001b[0;32m      2\u001b[0m \u001b[0mlist\u001b[0m\u001b[1;33m(\u001b[0m\u001b[0mzip\u001b[0m\u001b[1;33m(\u001b[0m\u001b[0mcoef\u001b[0m\u001b[1;33m,\u001b[0m \u001b[0mX_train\u001b[0m\u001b[1;33m.\u001b[0m\u001b[0mcolumns\u001b[0m\u001b[1;33m)\u001b[0m\u001b[1;33m)\u001b[0m\u001b[1;33m\u001b[0m\u001b[1;33m\u001b[0m\u001b[0m\n",
      "\u001b[1;31mAttributeError\u001b[0m: 'Ridge' object has no attribute 'coef_'"
     ]
    }
   ],
   "source": [
    "coef = [ridge.coef_[0][i] for i in range(len(ridge.coef_[0] + 1))]\n",
    "list(zip(coef, X_train.columns))"
   ]
  },
  {
   "cell_type": "code",
   "execution_count": 17,
   "metadata": {},
   "outputs": [
    {
     "ename": "ValueError",
     "evalue": "could not convert string to float: 'RL'",
     "output_type": "error",
     "traceback": [
      "\u001b[1;31m---------------------------------------------------------------------------\u001b[0m",
      "\u001b[1;31mValueError\u001b[0m                                Traceback (most recent call last)",
      "\u001b[1;32m<ipython-input-17-d772b65043ff>\u001b[0m in \u001b[0;36m<module>\u001b[1;34m\u001b[0m\n\u001b[0;32m      1\u001b[0m \u001b[0mridge\u001b[0m\u001b[1;33m.\u001b[0m\u001b[0mset_params\u001b[0m\u001b[1;33m(\u001b[0m\u001b[0malpha\u001b[0m \u001b[1;33m=\u001b[0m \u001b[1;36m1.0\u001b[0m\u001b[1;33m)\u001b[0m\u001b[1;33m\u001b[0m\u001b[1;33m\u001b[0m\u001b[0m\n\u001b[1;32m----> 2\u001b[1;33m \u001b[0mridge\u001b[0m\u001b[1;33m.\u001b[0m\u001b[0mfit\u001b[0m\u001b[1;33m(\u001b[0m\u001b[0mX_train\u001b[0m\u001b[1;33m,\u001b[0m \u001b[0my_train\u001b[0m\u001b[1;33m)\u001b[0m\u001b[1;33m\u001b[0m\u001b[1;33m\u001b[0m\u001b[0m\n\u001b[0m\u001b[0;32m      3\u001b[0m \u001b[0mprint\u001b[0m\u001b[1;33m(\u001b[0m\u001b[1;34m'the ridge intercept is: %.2f'\u001b[0m \u001b[1;33m%\u001b[0m\u001b[1;33m(\u001b[0m\u001b[0mridge\u001b[0m\u001b[1;33m.\u001b[0m\u001b[0mintercept_\u001b[0m\u001b[1;33m)\u001b[0m\u001b[1;33m)\u001b[0m\u001b[1;33m\u001b[0m\u001b[1;33m\u001b[0m\u001b[0m\n\u001b[0;32m      4\u001b[0m \u001b[1;31m#print(pd.Series(ridge.coef_, index=X_train.columns))\u001b[0m\u001b[1;33m\u001b[0m\u001b[1;33m\u001b[0m\u001b[1;33m\u001b[0m\u001b[0m\n\u001b[0;32m      5\u001b[0m \u001b[1;31m#list(zip(ridge.coef_.tolist, X_train.columns))\u001b[0m\u001b[1;33m\u001b[0m\u001b[1;33m\u001b[0m\u001b[1;33m\u001b[0m\u001b[0m\n",
      "\u001b[1;32m~\\anaconda3\\lib\\site-packages\\sklearn\\linear_model\\ridge.py\u001b[0m in \u001b[0;36mfit\u001b[1;34m(self, X, y, sample_weight)\u001b[0m\n\u001b[0;32m    678\u001b[0m         \u001b[0mself\u001b[0m \u001b[1;33m:\u001b[0m \u001b[0mreturns\u001b[0m \u001b[0man\u001b[0m \u001b[0minstance\u001b[0m \u001b[0mof\u001b[0m \u001b[0mself\u001b[0m\u001b[1;33m.\u001b[0m\u001b[1;33m\u001b[0m\u001b[1;33m\u001b[0m\u001b[0m\n\u001b[0;32m    679\u001b[0m         \"\"\"\n\u001b[1;32m--> 680\u001b[1;33m         \u001b[1;32mreturn\u001b[0m \u001b[0msuper\u001b[0m\u001b[1;33m(\u001b[0m\u001b[0mRidge\u001b[0m\u001b[1;33m,\u001b[0m \u001b[0mself\u001b[0m\u001b[1;33m)\u001b[0m\u001b[1;33m.\u001b[0m\u001b[0mfit\u001b[0m\u001b[1;33m(\u001b[0m\u001b[0mX\u001b[0m\u001b[1;33m,\u001b[0m \u001b[0my\u001b[0m\u001b[1;33m,\u001b[0m \u001b[0msample_weight\u001b[0m\u001b[1;33m=\u001b[0m\u001b[0msample_weight\u001b[0m\u001b[1;33m)\u001b[0m\u001b[1;33m\u001b[0m\u001b[1;33m\u001b[0m\u001b[0m\n\u001b[0m\u001b[0;32m    681\u001b[0m \u001b[1;33m\u001b[0m\u001b[0m\n\u001b[0;32m    682\u001b[0m \u001b[1;33m\u001b[0m\u001b[0m\n",
      "\u001b[1;32m~\\anaconda3\\lib\\site-packages\\sklearn\\linear_model\\ridge.py\u001b[0m in \u001b[0;36mfit\u001b[1;34m(self, X, y, sample_weight)\u001b[0m\n\u001b[0;32m    489\u001b[0m \u001b[1;33m\u001b[0m\u001b[0m\n\u001b[0;32m    490\u001b[0m         X, y = check_X_y(X, y, ['csr', 'csc', 'coo'], dtype=_dtype,\n\u001b[1;32m--> 491\u001b[1;33m                          multi_output=True, y_numeric=True)\n\u001b[0m\u001b[0;32m    492\u001b[0m \u001b[1;33m\u001b[0m\u001b[0m\n\u001b[0;32m    493\u001b[0m         if ((sample_weight is not None) and\n",
      "\u001b[1;32m~\\anaconda3\\lib\\site-packages\\sklearn\\utils\\validation.py\u001b[0m in \u001b[0;36mcheck_X_y\u001b[1;34m(X, y, accept_sparse, accept_large_sparse, dtype, order, copy, force_all_finite, ensure_2d, allow_nd, multi_output, ensure_min_samples, ensure_min_features, y_numeric, warn_on_dtype, estimator)\u001b[0m\n\u001b[0;32m    754\u001b[0m                     \u001b[0mensure_min_features\u001b[0m\u001b[1;33m=\u001b[0m\u001b[0mensure_min_features\u001b[0m\u001b[1;33m,\u001b[0m\u001b[1;33m\u001b[0m\u001b[1;33m\u001b[0m\u001b[0m\n\u001b[0;32m    755\u001b[0m                     \u001b[0mwarn_on_dtype\u001b[0m\u001b[1;33m=\u001b[0m\u001b[0mwarn_on_dtype\u001b[0m\u001b[1;33m,\u001b[0m\u001b[1;33m\u001b[0m\u001b[1;33m\u001b[0m\u001b[0m\n\u001b[1;32m--> 756\u001b[1;33m                     estimator=estimator)\n\u001b[0m\u001b[0;32m    757\u001b[0m     \u001b[1;32mif\u001b[0m \u001b[0mmulti_output\u001b[0m\u001b[1;33m:\u001b[0m\u001b[1;33m\u001b[0m\u001b[1;33m\u001b[0m\u001b[0m\n\u001b[0;32m    758\u001b[0m         y = check_array(y, 'csr', force_all_finite=True, ensure_2d=False,\n",
      "\u001b[1;32m~\\anaconda3\\lib\\site-packages\\sklearn\\utils\\validation.py\u001b[0m in \u001b[0;36mcheck_array\u001b[1;34m(array, accept_sparse, accept_large_sparse, dtype, order, copy, force_all_finite, ensure_2d, allow_nd, ensure_min_samples, ensure_min_features, warn_on_dtype, estimator)\u001b[0m\n\u001b[0;32m    525\u001b[0m             \u001b[1;32mtry\u001b[0m\u001b[1;33m:\u001b[0m\u001b[1;33m\u001b[0m\u001b[1;33m\u001b[0m\u001b[0m\n\u001b[0;32m    526\u001b[0m                 \u001b[0mwarnings\u001b[0m\u001b[1;33m.\u001b[0m\u001b[0msimplefilter\u001b[0m\u001b[1;33m(\u001b[0m\u001b[1;34m'error'\u001b[0m\u001b[1;33m,\u001b[0m \u001b[0mComplexWarning\u001b[0m\u001b[1;33m)\u001b[0m\u001b[1;33m\u001b[0m\u001b[1;33m\u001b[0m\u001b[0m\n\u001b[1;32m--> 527\u001b[1;33m                 \u001b[0marray\u001b[0m \u001b[1;33m=\u001b[0m \u001b[0mnp\u001b[0m\u001b[1;33m.\u001b[0m\u001b[0masarray\u001b[0m\u001b[1;33m(\u001b[0m\u001b[0marray\u001b[0m\u001b[1;33m,\u001b[0m \u001b[0mdtype\u001b[0m\u001b[1;33m=\u001b[0m\u001b[0mdtype\u001b[0m\u001b[1;33m,\u001b[0m \u001b[0morder\u001b[0m\u001b[1;33m=\u001b[0m\u001b[0morder\u001b[0m\u001b[1;33m)\u001b[0m\u001b[1;33m\u001b[0m\u001b[1;33m\u001b[0m\u001b[0m\n\u001b[0m\u001b[0;32m    528\u001b[0m             \u001b[1;32mexcept\u001b[0m \u001b[0mComplexWarning\u001b[0m\u001b[1;33m:\u001b[0m\u001b[1;33m\u001b[0m\u001b[1;33m\u001b[0m\u001b[0m\n\u001b[0;32m    529\u001b[0m                 raise ValueError(\"Complex data not supported\\n\"\n",
      "\u001b[1;32m~\\anaconda3\\lib\\site-packages\\numpy\\core\\numeric.py\u001b[0m in \u001b[0;36masarray\u001b[1;34m(a, dtype, order)\u001b[0m\n\u001b[0;32m    499\u001b[0m \u001b[1;33m\u001b[0m\u001b[0m\n\u001b[0;32m    500\u001b[0m     \"\"\"\n\u001b[1;32m--> 501\u001b[1;33m     \u001b[1;32mreturn\u001b[0m \u001b[0marray\u001b[0m\u001b[1;33m(\u001b[0m\u001b[0ma\u001b[0m\u001b[1;33m,\u001b[0m \u001b[0mdtype\u001b[0m\u001b[1;33m,\u001b[0m \u001b[0mcopy\u001b[0m\u001b[1;33m=\u001b[0m\u001b[1;32mFalse\u001b[0m\u001b[1;33m,\u001b[0m \u001b[0morder\u001b[0m\u001b[1;33m=\u001b[0m\u001b[0morder\u001b[0m\u001b[1;33m)\u001b[0m\u001b[1;33m\u001b[0m\u001b[1;33m\u001b[0m\u001b[0m\n\u001b[0m\u001b[0;32m    502\u001b[0m \u001b[1;33m\u001b[0m\u001b[0m\n\u001b[0;32m    503\u001b[0m \u001b[1;33m\u001b[0m\u001b[0m\n",
      "\u001b[1;31mValueError\u001b[0m: could not convert string to float: 'RL'"
     ]
    }
   ],
   "source": [
    "ridge.set_params(alpha = 1.0)\n",
    "ridge.fit(X_train, y_train)\n",
    "print('the ridge intercept is: %.2f' %(ridge.intercept_))\n",
    "#print(pd.Series(ridge.coef_, index=X_train.columns))\n",
    "#list(zip(ridge.coef_.tolist, X_train.columns))"
   ]
  },
  {
   "cell_type": "code",
   "execution_count": 302,
   "metadata": {},
   "outputs": [
    {
     "data": {
      "text/plain": [
       "Ridge(alpha=0, copy_X=True, fit_intercept=True, max_iter=None, normalize=True,\n",
       "   random_state=None, solver='auto', tol=0.001)"
      ]
     },
     "execution_count": 302,
     "metadata": {},
     "output_type": "execute_result"
    }
   ],
   "source": [
    "#NORMALIZING THE COLUMNS\n",
    "ridge.set_params(alpha = 0, normalize=True)\n",
    "ridge.fit(X, y)"
   ]
  },
  {
   "cell_type": "code",
   "execution_count": 1,
   "metadata": {},
   "outputs": [
    {
     "ename": "NameError",
     "evalue": "name 'ridge' is not defined",
     "output_type": "error",
     "traceback": [
      "\u001b[1;31m---------------------------------------------------------------------------\u001b[0m",
      "\u001b[1;31mNameError\u001b[0m                                 Traceback (most recent call last)",
      "\u001b[1;32m<ipython-input-1-9571c17699f0>\u001b[0m in \u001b[0;36m<module>\u001b[1;34m\u001b[0m\n\u001b[1;32m----> 1\u001b[1;33m \u001b[0mprint\u001b[0m\u001b[1;33m(\u001b[0m\u001b[1;34m'the ridge intercept is: %.2f'\u001b[0m \u001b[1;33m%\u001b[0m\u001b[1;33m(\u001b[0m\u001b[0mridge\u001b[0m\u001b[1;33m.\u001b[0m\u001b[0mintercept_\u001b[0m\u001b[1;33m)\u001b[0m\u001b[1;33m)\u001b[0m\u001b[1;33m\u001b[0m\u001b[1;33m\u001b[0m\u001b[0m\n\u001b[0m\u001b[0;32m      2\u001b[0m \u001b[0mpd\u001b[0m\u001b[1;33m.\u001b[0m\u001b[0mSeries\u001b[0m\u001b[1;33m(\u001b[0m\u001b[0mridge\u001b[0m\u001b[1;33m.\u001b[0m\u001b[0mcoef_\u001b[0m\u001b[1;33m,\u001b[0m \u001b[0mindex\u001b[0m\u001b[1;33m=\u001b[0m\u001b[0mX\u001b[0m\u001b[1;33m.\u001b[0m\u001b[0mcolumns\u001b[0m\u001b[1;33m)\u001b[0m\u001b[1;33m\u001b[0m\u001b[1;33m\u001b[0m\u001b[0m\n",
      "\u001b[1;31mNameError\u001b[0m: name 'ridge' is not defined"
     ]
    }
   ],
   "source": [
    "print('the ridge intercept is: %.2f' %(ridge.intercept_))\n",
    "pd.Series(ridge.coef_, index=X.columns)"
   ]
  },
  {
   "cell_type": "code",
   "execution_count": null,
   "metadata": {},
   "outputs": [],
   "source": []
  }
 ],
 "metadata": {
  "kernelspec": {
   "display_name": "Python 3",
   "language": "python",
   "name": "python3"
  },
  "language_info": {
   "codemirror_mode": {
    "name": "ipython",
    "version": 3
   },
   "file_extension": ".py",
   "mimetype": "text/x-python",
   "name": "python",
   "nbconvert_exporter": "python",
   "pygments_lexer": "ipython3",
   "version": "3.7.3"
  }
 },
 "nbformat": 4,
 "nbformat_minor": 2
}
